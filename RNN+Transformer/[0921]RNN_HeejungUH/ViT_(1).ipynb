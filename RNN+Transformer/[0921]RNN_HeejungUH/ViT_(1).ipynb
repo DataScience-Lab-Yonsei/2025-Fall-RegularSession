{
  "cells": [
    {
      "cell_type": "markdown",
      "metadata": {
        "id": "2aFgIjFlhTcY"
      },
      "source": [
        "# Vision Transformer Classification Task"
      ]
    },
    {
      "cell_type": "markdown",
      "metadata": {
        "id": "DQdKxBqJhTca"
      },
      "source": [
        "- 기수:\n",
        "\n",
        "- 이름:\n",
        "\n",
        "- 작성자: 13기 강승우, 조지성, 한연주"
      ]
    },
    {
      "cell_type": "markdown",
      "metadata": {
        "id": "kvuCFNXVhTca"
      },
      "source": [
        "- Reference: 24-2 RNN+Transformer Assignment / 11기 김정우"
      ]
    },
    {
      "cell_type": "markdown",
      "metadata": {
        "id": "FJDMKDHkhTcb"
      },
      "source": [
        "본 과제에서는 간단한 Vision Transformer 모델을 Scratch 에서부터 구현해보는 내용을 담고 있습니다.\n",
        "\n",
        "![image.png](attachment:image.png)"
      ]
    },
    {
      "cell_type": "markdown",
      "metadata": {
        "id": "bmR0nXWkhTcb"
      },
      "source": [
        "## 1. Setting"
      ]
    },
    {
      "cell_type": "code",
      "execution_count": 1,
      "metadata": {
        "colab": {
          "base_uri": "https://localhost:8080/"
        },
        "id": "Z4nSJOgXhTcb",
        "outputId": "4f4c17e7-10dc-4d4e-d60b-d37d1d838ee5"
      },
      "outputs": [
        {
          "output_type": "execute_result",
          "data": {
            "text/plain": [
              "<torch._C.Generator at 0x784f5412cb90>"
            ]
          },
          "metadata": {},
          "execution_count": 1
        }
      ],
      "source": [
        "import numpy as np\n",
        "\n",
        "from tqdm import tqdm, trange\n",
        "\n",
        "import torch\n",
        "import torch.nn as nn\n",
        "from torch.optim import Adam\n",
        "from torch.nn import CrossEntropyLoss\n",
        "from torch.utils.data import DataLoader\n",
        "\n",
        "from torchvision.transforms import ToTensor\n",
        "from torchvision.datasets.mnist import MNIST\n",
        "\n",
        "np.random.seed(2025)\n",
        "torch.manual_seed(2025)"
      ]
    },
    {
      "cell_type": "markdown",
      "metadata": {
        "id": "4e4VC80FhTcc"
      },
      "source": [
        "## 2. Training Format\n",
        "\n",
        "아래 함수는 기본적인 학습 진행을 위한 템플릿입니다."
      ]
    },
    {
      "cell_type": "code",
      "execution_count": 2,
      "metadata": {
        "id": "K80yBoQVhTcc"
      },
      "outputs": [],
      "source": [
        "def main():\n",
        "    # Loading data\n",
        "    transform = ToTensor()\n",
        "\n",
        "    train_set = MNIST(root='./datasets', train=True, download=True, transform=transform)\n",
        "    test_set = MNIST(root='./datasets', train=False, download=True, transform=transform)\n",
        "\n",
        "    train_loader = DataLoader(train_set, shuffle=True, batch_size=128)\n",
        "    test_loader = DataLoader(test_set, shuffle=False, batch_size=128)\n",
        "\n",
        "    # Defining model and training options\n",
        "    device = torch.device(\"cuda\" if torch.cuda.is_available() else \"cpu\")\n",
        "    print(\"Using device: \", device, f\"({torch.cuda.get_device_name(device)})\" if torch.cuda.is_available() else \"\")\n",
        "\n",
        "    model = MyViT((1, 28, 28), n_patches=7, n_blocks=2, hidden_d=8, n_heads=2, out_d=10).to(device)\n",
        "    N_EPOCHS = 10 ## TODO ##\n",
        "    LR = 1e-3 ## TODO ##\n",
        "\n",
        "    # Training loop\n",
        "    optimizer = Adam(model.parameters(), lr=LR)\n",
        "    criterion = CrossEntropyLoss()\n",
        "\n",
        "    for epoch in trange(N_EPOCHS, desc=\"Training\"):\n",
        "        train_loss = 0.0\n",
        "        for batch in tqdm(train_loader, desc=f\"Epoch {epoch + 1} in training\", leave=False):\n",
        "            x, y = batch\n",
        "            x, y = x.to(device), y.to(device)\n",
        "            y_hat = model(x)\n",
        "            loss = criterion(y_hat, y)\n",
        "\n",
        "            train_loss += loss.detach().cpu().item() / len(train_loader)\n",
        "\n",
        "            optimizer.zero_grad()\n",
        "            loss.backward()\n",
        "            optimizer.step()\n",
        "\n",
        "        print(f\"Epoch {epoch + 1}/{N_EPOCHS} loss: {train_loss:.2f}\")\n",
        "\n",
        "    # Test loop\n",
        "    with torch.no_grad():\n",
        "        correct, total = 0, 0\n",
        "        test_loss = 0.0\n",
        "\n",
        "        for batch in tqdm(test_loader, desc=\"Testing\"):\n",
        "            x, y = batch\n",
        "            x, y = x.to(device), y.to(device)\n",
        "            y_hat = model(x)\n",
        "            loss = criterion(y_hat, y)\n",
        "            test_loss += loss.detach().cpu().item() / len(test_loader)\n",
        "\n",
        "            correct += torch.sum(torch.argmax(y_hat, dim=1) == y).detach().cpu().item()\n",
        "            total += len(x)\n",
        "\n",
        "        print(f\"Test loss: {test_loss:.2f}\")\n",
        "        print(f\"Test accuracy: {correct / total * 100:.2f}%\")"
      ]
    },
    {
      "cell_type": "markdown",
      "metadata": {
        "id": "RLw5srqwhTcc"
      },
      "source": [
        "## 3. Forward Process"
      ]
    },
    {
      "cell_type": "markdown",
      "metadata": {
        "id": "4NIg9qNOhTcc"
      },
      "source": [
        "### 3-1. Patchifying and the linear mapping"
      ]
    },
    {
      "cell_type": "markdown",
      "metadata": {
        "id": "tv3yCAHWhTcc"
      },
      "source": [
        "기본적으로 하나의 MNIST 데이터는 (1, 28, 28) 으로 구성되어 있습니다.\n",
        "\n",
        "본 과제에서는 7x7 (49개) 의 patch로 나누는 과정을 진행하게 됩니다."
      ]
    },
    {
      "cell_type": "code",
      "execution_count": 3,
      "metadata": {
        "id": "7jtP3tOMhTcd"
      },
      "outputs": [],
      "source": [
        "def patchify(images, n_patches=7):\n",
        "    n, c, h, w = images.shape\n",
        "\n",
        "    assert h == w, \"Patchify method is implemented for square images only\"\n",
        "\n",
        "    patch_size = h // n_patches\n",
        "    patches = torch.zeros(n, n_patches * n_patches, c * patch_size * patch_size) # (N, # patch num, # patch dimension)\n",
        "\n",
        "\n",
        "    for idx, image in enumerate(images):\n",
        "        for i in range(n_patches):\n",
        "            for j in range(n_patches):\n",
        "                patch = image[:,\n",
        "                              i * patch_size:(i + 1) * patch_size,\n",
        "                              j * patch_size:(j + 1) * patch_size]\n",
        "                patches[idx, i * n_patches + j] = patch.flatten()\n",
        "    return patches\n"
      ]
    },
    {
      "cell_type": "code",
      "execution_count": 4,
      "metadata": {
        "id": "h0IqzYSShTcd"
      },
      "outputs": [],
      "source": [
        "class MyViT(nn.Module):\n",
        "  def __init__(self, chw=(1, 28, 28), n_patches=7):\n",
        "    # Super constructor\n",
        "    super(MyViT, self).__init__()\n",
        "\n",
        "    # Attributes\n",
        "    self.chw = chw # (C, H, W)\n",
        "    self.n_patches = n_patches\n",
        "\n",
        "    assert chw[1] % n_patches == 0, \"Input shape not entirely divisible by number of patches\"\n",
        "    assert chw[2] % n_patches == 0, \"Input shape not entirely divisible by number of patches\"\n",
        "\n",
        "  def forward(self, images):\n",
        "    patches = patchify(images, self.n_patches)\n",
        "    return patches"
      ]
    },
    {
      "cell_type": "code",
      "execution_count": 5,
      "metadata": {
        "colab": {
          "base_uri": "https://localhost:8080/"
        },
        "id": "2GCVpSJ_hTcd",
        "outputId": "a09b855f-a504-4201-e4e6-e72516a0f3ce"
      },
      "outputs": [
        {
          "output_type": "stream",
          "name": "stdout",
          "text": [
            "torch.Size([7, 49, 16])\n"
          ]
        }
      ],
      "source": [
        "if __name__ == '__main__':\n",
        "  # Current model\n",
        "  model = MyViT(\n",
        "    chw=(1, 28, 28),\n",
        "    n_patches=7\n",
        "  )\n",
        "\n",
        "  x = torch.randn(7, 1, 28, 28) # Dummy images\n",
        "  print(model(x).shape) # torch.Size([7, 49, 16])"
      ]
    },
    {
      "cell_type": "markdown",
      "metadata": {
        "id": "-8QyQ1TvhTcd"
      },
      "source": [
        "이어서 flatten patch에 간단한 linear mapping을 적용해 patch mapping을 진행하고자 합니다.\n",
        "\n",
        "hidden dimmension은 8차원을 기본으로 하지만, 수정할 수 있습니다."
      ]
    },
    {
      "cell_type": "code",
      "execution_count": 6,
      "metadata": {
        "id": "YMISr4-yhTcd"
      },
      "outputs": [],
      "source": [
        "class MyViT(nn.Module):\n",
        "  def __init__(self, chw=(1, 28, 28), n_patches=7, hidden_dim1=8):\n",
        "    # Super constructor\n",
        "    super(MyViT, self).__init__()\n",
        "\n",
        "    # Attributes\n",
        "    self.chw = chw # (C, H, W)\n",
        "    self.n_patches = n_patches\n",
        "    self.hidden_d = hidden_dim1\n",
        "\n",
        "    assert chw[1] % n_patches == 0, \"Input shape not entirely divisible by number of patches\"\n",
        "    assert chw[2] % n_patches == 0, \"Input shape not entirely divisible by number of patches\"\n",
        "\n",
        "    self.patch_size = (chw[1] / n_patches, chw[2] / n_patches)\n",
        "\n",
        "    # 1) Linear mapper\n",
        "    self.input_d = int(self.chw[0] * self.patch_size[0] * self.patch_size[1])\n",
        "    self.linear_mapper = nn.Linear(self.input_d, self.hidden_d)\n",
        "\n",
        "  def forward(self, images):\n",
        "    patches = patchify(images, self.n_patches)\n",
        "    tokens = self.linear_mapper(patches)\n",
        "\n",
        "    return tokens"
      ]
    },
    {
      "cell_type": "code",
      "execution_count": 7,
      "metadata": {
        "colab": {
          "base_uri": "https://localhost:8080/"
        },
        "id": "2aq7E9C5hTcd",
        "outputId": "ea4c9038-efd6-4a56-c12e-11874f8d0e62"
      },
      "outputs": [
        {
          "output_type": "stream",
          "name": "stdout",
          "text": [
            "torch.Size([7, 49, 8])\n"
          ]
        }
      ],
      "source": [
        "if __name__ == '__main__':\n",
        "  # Current model\n",
        "  model = MyViT(\n",
        "    chw=(1, 28, 28),\n",
        "    n_patches=7\n",
        "  )\n",
        "\n",
        "  x = torch.randn(7, 1, 28, 28) # Dummy images\n",
        "  print(model(x).shape) # torch.Size([7, 49, 16])"
      ]
    },
    {
      "cell_type": "markdown",
      "metadata": {
        "id": "TFy9y6XBhTce"
      },
      "source": [
        "### 3-2. Adding the Classification Token"
      ]
    },
    {
      "cell_type": "markdown",
      "metadata": {
        "id": "hu7mi5tghTce"
      },
      "source": [
        "ViT에선 Transformer Encoder에 같이 v_class 토큰이 입력됩니다.\n",
        "\n",
        " (N, 29, 16)에 해당 토큰이 추가되어 (N, 50, 8) 으로 변환되게 됩니다."
      ]
    },
    {
      "cell_type": "code",
      "execution_count": 8,
      "metadata": {
        "id": "UKp-Lp0fhTce"
      },
      "outputs": [],
      "source": [
        "class MyViT(nn.Module):\n",
        "  def __init__(self, chw=(1, 28, 28), n_patches=7, hidden_dim1=8):\n",
        "    # Super constructor\n",
        "    super(MyViT, self).__init__()\n",
        "\n",
        "    # Attributes\n",
        "    self.chw = chw # (C, H, W)\n",
        "    self.n_patches = n_patches\n",
        "    self.hidden_d = hidden_dim1\n",
        "\n",
        "    assert chw[1] % n_patches == 0, \"Input shape not entirely divisible by number of patches\"\n",
        "    assert chw[2] % n_patches == 0, \"Input shape not entirely divisible by number of patches\"\n",
        "    self.patch_size = (chw[1] / n_patches, chw[2] / n_patches)\n",
        "\n",
        "    # 1) Linear mapper\n",
        "    self.input_d = int(self.chw[0] * self.patch_size[0] * self.patch_size[1])\n",
        "    self.linear_mapper = nn.Linear(self.input_d, self.hidden_d)\n",
        "\n",
        "    # 2) Learnable classifiation token\n",
        "    self.class_token = nn.Parameter(torch.rand(1, self.hidden_d)) # Classification Token을 정의\n",
        "\n",
        "  def forward(self, images):\n",
        "    patches = patchify(images, self.n_patches)\n",
        "    tokens = self.linear_mapper(patches)\n",
        "\n",
        "    # Adding classification token to the tokens\n",
        "    tokens = torch.stack([torch.vstack((self.class_token, tokens[i])) for i in range(len(tokens))])\n",
        "    return tokens"
      ]
    },
    {
      "cell_type": "markdown",
      "metadata": {
        "id": "8nMuGMj4hTce"
      },
      "source": [
        "### 3-3. Positional Encoding"
      ]
    },
    {
      "cell_type": "markdown",
      "metadata": {
        "id": "UhY0mXUwhTce"
      },
      "source": [
        "ViT에서의 Positional Encoding은 첫 번째 차원에는 고주파수 값을, 두 번째 차원에는 저주파수 값을 추가합니다. (구체적인 내용은 Attention is All you Need 논문을 참고해주세요!)\n",
        "\n",
        "각 시퀀스에서 토큰 i에 대해 j 번째 좌표에 다음 값을 추가합니다:\n",
        "\n",
        "![image.png](attachment:image.png)"
      ]
    },
    {
      "cell_type": "code",
      "execution_count": 9,
      "metadata": {
        "colab": {
          "base_uri": "https://localhost:8080/",
          "height": 230
        },
        "id": "zpQEjLG-hTce",
        "outputId": "7da7e801-2065-40b4-b022-0cb4ae11b93f"
      },
      "outputs": [
        {
          "output_type": "display_data",
          "data": {
            "text/plain": [
              "<Figure size 640x480 with 1 Axes>"
            ],
            "image/png": "[encoded data removed]"
          },
          "metadata": {}
        }
      ],
      "source": [
        "import math\n",
        "def get_positional_embeddings(sequence_length, d):\n",
        "    result = torch.ones(sequence_length, d)\n",
        "    for i in range(sequence_length):\n",
        "        for j in range(d):\n",
        "            if j % 2 == 0:\n",
        "                result[i][j] = math.sin(i / (10000 ** (j / d)))\n",
        "            else:\n",
        "                result[i][j] = math.cos(i / (10000 ** ((j - 1) / d)))\n",
        "    return result\n",
        "\n",
        "if __name__ == \"__main__\":\n",
        "  import matplotlib.pyplot as plt\n",
        "\n",
        "  plt.imshow(get_positional_embeddings(100, 300), cmap=\"hot\", interpolation=\"nearest\")\n",
        "  plt.show()"
      ]
    },
    {
      "cell_type": "markdown",
      "metadata": {
        "id": "BNsJKnT4hTce"
      },
      "source": [
        "해당 부분까지 ViT Class에 더해주게 되면 아래와 같이 진행됩니다."
      ]
    },
    {
      "cell_type": "code",
      "execution_count": 10,
      "metadata": {
        "id": "MLthMKaQhTce"
      },
      "outputs": [],
      "source": [
        "class MyViT(nn.Module):\n",
        "  def __init__(self, chw=(1, 28, 28), n_patches=7, hidden_dim1=8):\n",
        "    # Super constructor\n",
        "    super(MyViT, self).__init__()\n",
        "\n",
        "    # Attributes\n",
        "    self.chw = chw # (C, H, W)\n",
        "    self.n_patches = n_patches\n",
        "    self.hidden_d = hidden_dim1\n",
        "\n",
        "    assert chw[1] % n_patches == 0, \"Input shape not entirely divisible by number of patches\"\n",
        "    assert chw[2] % n_patches == 0, \"Input shape not entirely divisible by number of patches\"\n",
        "    self.patch_size = (chw[1] / n_patches, chw[2] / n_patches)\n",
        "\n",
        "    # 1) Linear mapper\n",
        "    self.input_d = int(self.chw[0] * self.patch_size[0] * self.patch_size[1])\n",
        "    self.linear_mapper = nn.Linear(self.input_d, self.hidden_d)\n",
        "\n",
        "    # 2) Learnable classifiation token\n",
        "    self.class_token = nn.Parameter(torch.rand(1, self.hidden_d)) # Classification Token을 정의\n",
        "\n",
        "    # 3) Positional embedding\n",
        "    self.positional_embeddings = nn.Parameter(torch.tensor(get_positional_embeddings(self.n_patches ** 2 + 1, self.hidden_d)))\n",
        "    self.positional_embeddings.requires_grad = False\n",
        "\n",
        "  def forward(self, images):\n",
        "    patches = patchify(images, self.n_patches)\n",
        "    tokens = self.linear_mapper(patches)\n",
        "\n",
        "    # Adding classification token to the tokens\n",
        "    tokens = torch.stack([torch.vstack((self.class_token, tokens[i])) for i in range(len(tokens))])\n",
        "\n",
        "    # Adding positional embedding\n",
        "    positional_embeddings = self.positional_embeddings.repeat(images.shape[0], 1, 1)\n",
        "    out = tokens + positional_embeddings\n",
        "\n",
        "    return out"
      ]
    },
    {
      "cell_type": "markdown",
      "metadata": {
        "id": "AhV4_81khTcf"
      },
      "source": [
        "### 3-4. Multi-Head Self Attention"
      ]
    },
    {
      "cell_type": "markdown",
      "metadata": {
        "id": "fmKnSLJWhTcf"
      },
      "source": [
        "MSA를 위한 클래스는 아래와 같이 구현할 수 있습니다."
      ]
    },
    {
      "cell_type": "code",
      "execution_count": 11,
      "metadata": {
        "id": "HR555ouLhTcf"
      },
      "outputs": [],
      "source": [
        "class MyMSA(nn.Module):\n",
        "    def __init__(self, d, n_heads=2):\n",
        "        super(MyMSA, self).__init__()\n",
        "        self.d = d\n",
        "        self.n_heads = n_heads\n",
        "        assert d % n_heads == 0, f\"Can't divide dimension {d} into {n_heads} heads\"\n",
        "\n",
        "        d_head = int(d / n_heads)\n",
        "        self.q_mappings = nn.ModuleList([nn.Linear(d_head, d_head) for _ in range(self.n_heads)])\n",
        "        self.k_mappings = nn.ModuleList([nn.Linear(d_head, d_head) for _ in range(self.n_heads)])\n",
        "        self.v_mappings = nn.ModuleList([nn.Linear(d_head, d_head) for _ in range(self.n_heads)])\n",
        "        self.d_head = d_head\n",
        "        self.softmax = nn.Softmax(dim=-1)\n",
        "\n",
        "    def forward(self, sequences):\n",
        "        # Sequences has shape (N, seq_length, token_dim)\n",
        "        # We go into shape    (N, seq_length, n_heads, token_dim / n_heads)\n",
        "        # And come back to    (N, seq_length, item_dim)  (through concatenation)\n",
        "        result = []\n",
        "        for sequence in sequences:\n",
        "            seq_result = []\n",
        "            for head in range(self.n_heads):\n",
        "                q_mapping = self.q_mappings[head]\n",
        "                k_mapping = self.k_mappings[head]\n",
        "                v_mapping = self.v_mappings[head]\n",
        "\n",
        "                seq = sequence[:, head * self.d_head: (head + 1) * self.d_head]\n",
        "                q, k, v = q_mapping(seq), k_mapping(seq), v_mapping(seq)\n",
        "\n",
        "                attention = self.softmax(q @ k.T / (self.d_head ** 0.5))\n",
        "                seq_result.append(attention @ v)\n",
        "            result.append(torch.hstack(seq_result))\n",
        "        return torch.cat([torch.unsqueeze(r, dim=0) for r in result])"
      ]
    },
    {
      "cell_type": "code",
      "execution_count": 12,
      "metadata": {
        "id": "Zrb3vsswhTcf"
      },
      "outputs": [],
      "source": [
        "class MyViTBlock(nn.Module):\n",
        "    def __init__(self, hidden_d, n_heads, mlp_ratio=4):\n",
        "        super(MyViTBlock, self).__init__()\n",
        "        self.hidden_d = hidden_d\n",
        "        self.n_heads = n_heads\n",
        "\n",
        "        self.norm1 = nn.LayerNorm(hidden_d)\n",
        "        self.mhsa = MyMSA(hidden_d, n_heads)\n",
        "        self.norm2 = nn.LayerNorm(hidden_d)\n",
        "        self.mlp = nn.Sequential(\n",
        "            nn.Linear(hidden_d, mlp_ratio * hidden_d),\n",
        "            nn.GELU(),\n",
        "            nn.Linear(mlp_ratio * hidden_d, hidden_d)\n",
        "        )\n",
        "\n",
        "    def forward(self, x):\n",
        "        out = x + self.mhsa(self.norm1(x))\n",
        "        out = out + self.mlp(self.norm2(out))\n",
        "        return out"
      ]
    },
    {
      "cell_type": "code",
      "execution_count": 13,
      "metadata": {
        "colab": {
          "base_uri": "https://localhost:8080/"
        },
        "id": "ojoDfQ2jhTcf",
        "outputId": "766d9be1-b84a-422e-f8af-2c8ea43cadac"
      },
      "outputs": [
        {
          "output_type": "stream",
          "name": "stdout",
          "text": [
            "torch.Size([7, 50, 8])\n"
          ]
        }
      ],
      "source": [
        "if __name__ == '__main__':\n",
        "  model = MyViTBlock(hidden_d=8, n_heads=2)\n",
        "\n",
        "  x = torch.randn(7, 50, 8)  # Dummy sequences\n",
        "  print(model(x).shape)      # torch.Size([7, 50, 8])"
      ]
    },
    {
      "cell_type": "code",
      "execution_count": 14,
      "metadata": {
        "id": "lZUEIGtthTcf"
      },
      "outputs": [],
      "source": [
        "class MyViT(nn.Module):\n",
        "  def __init__(self, chw=(1, 28, 28), n_patches=7, hidden_dim1=8):\n",
        "    # Super constructor\n",
        "    super(MyViT, self).__init__()\n",
        "\n",
        "    # Attributes\n",
        "    self.chw = chw # (C, H, W)\n",
        "    self.n_patches = n_patches\n",
        "    self.hidden_d = hidden_dim1\n",
        "\n",
        "    assert chw[1] % n_patches == 0, \"Input shape not entirely divisible by number of patches\"\n",
        "    assert chw[2] % n_patches == 0, \"Input shape not entirely divisible by number of patches\"\n",
        "    self.patch_size = (chw[1] / n_patches, chw[2] / n_patches)\n",
        "\n",
        "    # 1) Linear mapper\n",
        "    self.input_d = int(self.chw[0] * self.patch_size[0] * self.patch_size[1])\n",
        "    self.linear_mapper = nn.Linear(self.input_d, self.hidden_d)\n",
        "\n",
        "    # 2) Learnable classifiation token\n",
        "    self.class_token = nn.Parameter(torch.rand(1, self.hidden_d)) # Classification Token을 정의\n",
        "\n",
        "    # 3) Positional embedding\n",
        "    self.positional_embeddings = nn.Parameter(torch.tensor(get_positional_embeddings(self.n_patches ** 2 + 1, self.hidden_d)))\n",
        "    self.positional_embeddings.requires_grad = False\n",
        "\n",
        "  def forward(self, images):\n",
        "    patches = patchify(images, self.n_patches)\n",
        "    tokens = self.linear_mapper(patches)\n",
        "\n",
        "    # Adding classification token to the tokens\n",
        "    tokens = torch.stack([torch.vstack((self.class_token, tokens[i])) for i in range(len(tokens))])\n",
        "\n",
        "    # Adding positional embedding\n",
        "    pos_embed = self.positional_embeddings.repeat(images.shape[0], 1, 1)\n",
        "    out = tokens + positional_embeddings\n",
        "    return out"
      ]
    },
    {
      "cell_type": "code",
      "execution_count": 15,
      "metadata": {
        "id": "eGegQ2WkhTcf"
      },
      "outputs": [],
      "source": [
        "class MyViT(nn.Module):\n",
        "    def __init__(self, chw=(1, 28, 28), n_patches=7, n_blocks=2, hidden_dim1=8, n_heads=2, out_d=10):\n",
        "        # Super constructor\n",
        "        super(MyViT, self).__init__()\n",
        "\n",
        "        # Attributes\n",
        "        self.chw = chw # (C, H, W)\n",
        "        self.n_patches = n_patches\n",
        "        self.hidden_d = hidden_dim1\n",
        "        self.n_blocks = n_blocks\n",
        "        self.n_heads = n_heads\n",
        "\n",
        "        assert chw[1] % n_patches == 0, \"Input shape not entirely divisible by number of patches\"\n",
        "        assert chw[2] % n_patches == 0, \"Input shape not entirely divisible by number of patches\"\n",
        "        self.patch_size = (chw[1] / n_patches, chw[2] / n_patches)\n",
        "\n",
        "        # 1) Linear mapper\n",
        "        self.input_d = int(self.chw[0] * self.patch_size[0] * self.patch_size[1])\n",
        "        self.linear_mapper = nn.Linear(self.input_d, self.hidden_d)\n",
        "\n",
        "        # 2) Learnable classifiation token\n",
        "        self.class_token = nn.Parameter(torch.rand(1, self.hidden_d)) # Classification Token을 정의\n",
        "\n",
        "        # 3) Positional embedding\n",
        "        self.positional_embeddings = nn.Parameter(torch.tensor(get_positional_embeddings(self.n_patches ** 2 + 1, self.hidden_d)))\n",
        "\n",
        "        # 4) Transformer encoder blocks\n",
        "        self.blocks = nn.ModuleList([MyViTBlock(self.hidden_d, n_heads) for _ in range(n_blocks)])\n",
        "\n",
        "\n",
        "def forward(self, images):\n",
        "        # Dividing images into patches\n",
        "        n, c, h, w = images.shape\n",
        "        patches = patchify(images, self.n_patches).to(self.positional_embeddings.device)\n",
        "\n",
        "        # Running linear layer tokenization\n",
        "        # Map the vector corresponding to each patch to the hidden size dimension\n",
        "        tokens = self.linear_mapper(patches)\n",
        "\n",
        "        # Adding classification token to the tokens\n",
        "        tokens = torch.cat((self.class_token.expand(n, 1, -1), tokens), dim=1)\n",
        "\n",
        "        # Adding positional embedding\n",
        "        out = tokens + self.positional_embeddings.repeat(n, 1, 1)\n",
        "\n",
        "        # Transformer Blocks\n",
        "        for block in self.blocks:\n",
        "            out = block(out)\n",
        "\n",
        "        return out"
      ]
    },
    {
      "cell_type": "markdown",
      "metadata": {
        "id": "6kMH7ajbhTcg"
      },
      "source": [
        "최종적으로 Classificaion MLP까지 추가하면 ViT를 완성할 수 있습니다."
      ]
    },
    {
      "cell_type": "code",
      "execution_count": 17,
      "metadata": {
        "id": "g33oEIukhTcg"
      },
      "outputs": [],
      "source": [
        "class MyViT(nn.Module):\n",
        "    def __init__(self, chw=(1, 28, 28), n_patches=7, n_blocks=2, hidden_dim1=8, n_heads=2, out_d=10):\n",
        "        # Super constructor\n",
        "        super(MyViT, self).__init__()\n",
        "\n",
        "        # Attributes\n",
        "        self.chw = chw # (C, H, W)\n",
        "        self.n_patches = n_patches\n",
        "        self.hidden_d = hidden_dim1\n",
        "        self.n_blocks = n_blocks\n",
        "        self.n_heads = n_heads\n",
        "\n",
        "        assert chw[1] % n_patches == 0, \"Input shape not entirely divisible by number of patches\"\n",
        "        assert chw[2] % n_patches == 0, \"Input shape not entirely divisible by number of patches\"\n",
        "        self.patch_size = (chw[1] / n_patches, chw[2] / n_patches)\n",
        "\n",
        "        # 1) Linear mapper\n",
        "        self.input_d = int(self.chw[0] * (chw[1] / n_patches) * (chw[2] / n_patches))\n",
        "        self.linear_mapper = nn.Linear(self.input_d, self.hidden_d)\n",
        "\n",
        "        # 2) Learnable classifiation token\n",
        "        self.class_token = nn.Parameter(torch.rand(1, self.hidden_d)) # Classification Token을 정의\n",
        "\n",
        "        # 3) Positional embedding\n",
        "        self.pos_embed = nn.Parameter(torch.tensor(get_positional_embeddings(self.n_patches ** 2 + 1, self.hidden_d)))\n",
        "\n",
        "        # 4) Transformer encoder blocks\n",
        "        self.blocks = nn.ModuleList([MyViTBlock(self.hidden_d, n_heads) for _ in range(n_blocks)])\n",
        "\n",
        "        # 5) Classification MLPk\n",
        "        self.mlp = nn.Sequential(\n",
        "            nn.Linear(self.hidden_d, out_d),\n",
        "            nn.Softmax(dim=-1)\n",
        "        )\n",
        "\n",
        "\n",
        "    def forward(self, images):\n",
        "        # Dividing images into patches\n",
        "        n, c, h, w = images.shape\n",
        "        patches = patchify(images, self.n_patches).to(self.pos_embed.device)\n",
        "\n",
        "        # Running linear layer tokenization\n",
        "        # Map the vector corresponding to each patch to the hidden size dimension\n",
        "        tokens = self.linear_mapper(patches)\n",
        "\n",
        "        # Adding classification token to the tokens\n",
        "        tokens = torch.cat((self.class_token.expand(n, 1, -1), tokens), dim=1)\n",
        "\n",
        "        # Adding positional embedding\n",
        "        out = tokens + self.pos_embed.repeat(n, 1, 1)\n",
        "\n",
        "        # Transformer Blocks\n",
        "        for block in self.blocks:\n",
        "            out = block(out)\n",
        "\n",
        "        # Getting the classification token only\n",
        "        out = out[:, 0]\n",
        "\n",
        "        return self.mlp(out)"
      ]
    },
    {
      "cell_type": "markdown",
      "metadata": {
        "id": "9K1iKA7GhTcg"
      },
      "source": [
        "## 4. Training"
      ]
    },
    {
      "cell_type": "markdown",
      "metadata": {
        "id": "p14nWB7khTcg"
      },
      "source": [
        "적절히 Epoch와 Learning Rate를 수정하여 loss를 최대한 낮춰보세요!\n",
        "\n",
        "제출 조건: Test ACC를 75 이상 달성하기 :)"
      ]
    },
    {
      "cell_type": "code",
      "execution_count": 18,
      "metadata": {
        "id": "Nf8-LjdqhTcg"
      },
      "outputs": [],
      "source": [
        "from tqdm import tqdm, trange\n",
        "\n",
        "def main():\n",
        "    # Loading data\n",
        "    transform = ToTensor()\n",
        "\n",
        "    train_set = MNIST(root='./datasets', train=True, download=True, transform=transform)\n",
        "    test_set = MNIST(root='./datasets', train=False, download=True, transform=transform)\n",
        "\n",
        "    train_loader = DataLoader(train_set, shuffle=True, batch_size=128)\n",
        "    test_loader = DataLoader(test_set, shuffle=False, batch_size=128)\n",
        "\n",
        "    # Defining model and training options\n",
        "    device = torch.device(\"cuda\" if torch.cuda.is_available() else \"cpu\")\n",
        "    print(\"Using device: \", device, f\"({torch.cuda.get_device_name(device)})\" if torch.cuda.is_available() else \"\")\n",
        "\n",
        "    model = MyViT((1, 28, 28)).to(device)\n",
        "    N_EPOCHS = 15\n",
        "    LR = 1e-3\n",
        "\n",
        "    # Training loop\n",
        "    optimizer = Adam(model.parameters(), lr=LR)\n",
        "    criterion = CrossEntropyLoss()\n",
        "\n",
        "    for epoch in range(N_EPOCHS):\n",
        "        train_loss = 0.0\n",
        "        model.train()  # 모델을 학습 모드로 설정\n",
        "        progress_bar = tqdm(train_loader, desc=f\"Epoch {epoch + 1}/{N_EPOCHS} [Training]\", leave=False)\n",
        "\n",
        "        for batch in progress_bar:\n",
        "            x, y = batch\n",
        "            x, y = x.to(device), y.to(device)\n",
        "            y_hat = model(x)\n",
        "            loss = criterion(y_hat, y)\n",
        "\n",
        "            train_loss += loss.detach().cpu().item() / len(train_loader)\n",
        "\n",
        "            optimizer.zero_grad()\n",
        "            loss.backward()\n",
        "            optimizer.step()\n",
        "\n",
        "            # 현재 진행 상태의 loss를 tqdm에 업데이트\n",
        "            progress_bar.set_postfix({\"train_loss\": train_loss})\n",
        "\n",
        "        print(f\"Epoch {epoch + 1}/{N_EPOCHS} train loss: {train_loss:.2f}\")\n",
        "\n",
        "        # Test loop\n",
        "        model.eval()  # 모델을 평가 모드로 설정\n",
        "        test_loss = 0.0\n",
        "        correct, total = 0, 0\n",
        "        test_progress_bar = tqdm(test_loader, desc=f\"Epoch {epoch + 1}/{N_EPOCHS} [Testing]\", leave=False)\n",
        "\n",
        "        with torch.no_grad():\n",
        "            for batch in test_progress_bar:\n",
        "                x, y = batch\n",
        "                x, y = x.to(device), y.to(device)\n",
        "                y_hat = model(x)\n",
        "                loss = criterion(y_hat, y)\n",
        "                test_loss += loss.detach().cpu().item() / len(test_loader)\n",
        "\n",
        "                correct += torch.sum(torch.argmax(y_hat, dim=1) == y).detach().cpu().item()\n",
        "                total += len(x)\n",
        "\n",
        "                # 현재 진행 상태의 test loss를 tqdm에 업데이트\n",
        "                test_progress_bar.set_postfix({\"test_loss\": test_loss})\n",
        "\n",
        "        accuracy = correct / total * 100\n",
        "        print(f\"Epoch {epoch + 1}/{N_EPOCHS} test loss: {test_loss:.2f}, test accuracy: {accuracy:.2f}%\")\n"
      ]
    },
    {
      "cell_type": "code",
      "execution_count": 19,
      "metadata": {
        "colab": {
          "base_uri": "https://localhost:8080/"
        },
        "id": "5Y9_BZidhTcg",
        "outputId": "e89bc315-379f-48ba-db7f-e0f8e8c85e1e"
      },
      "outputs": [
        {
          "output_type": "stream",
          "name": "stdout",
          "text": [
            "Using device: cuda\n"
          ]
        }
      ],
      "source": [
        "device = torch.device(\"cuda\" if torch.cuda.is_available() else \"cpu\")\n",
        "print(\"Using device:\", device)"
      ]
    },
    {
      "cell_type": "code",
      "execution_count": 20,
      "metadata": {
        "colab": {
          "base_uri": "https://localhost:8080/"
        },
        "id": "iWsXO1d5hTch",
        "outputId": "0051abd8-05cc-4005-ffe9-6f8f500a1107"
      },
      "outputs": [
        {
          "output_type": "stream",
          "name": "stderr",
          "text": [
            "/tmp/ipython-input-894681309.py:25: UserWarning: To copy construct from a tensor, it is recommended to use sourceTensor.detach().clone() or sourceTensor.detach().clone().requires_grad_(True), rather than torch.tensor(sourceTensor).\n",
            "  self.pos_embed = nn.Parameter(torch.tensor(get_positional_embeddings(self.n_patches ** 2 + 1, self.hidden_d)))\n"
          ]
        }
      ],
      "source": [
        "model = MyViT((1, 28, 28), n_patches=7, n_blocks=2, hidden_dim1=8, n_heads=2, out_d=10).to(device)"
      ]
    },
    {
      "cell_type": "code",
      "execution_count": 21,
      "metadata": {
        "colab": {
          "base_uri": "https://localhost:8080/"
        },
        "id": "NTgemvFUhTcz",
        "outputId": "a3f8ed0e-62c1-4b15-9f73-391ab5ce5e2b"
      },
      "outputs": [
        {
          "output_type": "stream",
          "name": "stderr",
          "text": [
            "100%|██████████| 9.91M/9.91M [00:00<00:00, 17.9MB/s]\n",
            "100%|██████████| 28.9k/28.9k [00:00<00:00, 480kB/s]\n",
            "100%|██████████| 1.65M/1.65M [00:00<00:00, 3.82MB/s]\n",
            "100%|██████████| 4.54k/4.54k [00:00<00:00, 10.0MB/s]\n",
            "/tmp/ipython-input-894681309.py:25: UserWarning: To copy construct from a tensor, it is recommended to use sourceTensor.detach().clone() or sourceTensor.detach().clone().requires_grad_(True), rather than torch.tensor(sourceTensor).\n",
            "  self.pos_embed = nn.Parameter(torch.tensor(get_positional_embeddings(self.n_patches ** 2 + 1, self.hidden_d)))\n"
          ]
        },
        {
          "output_type": "stream",
          "name": "stdout",
          "text": [
            "Using device:  cuda (Tesla T4)\n"
          ]
        },
        {
          "output_type": "stream",
          "name": "stderr",
          "text": []
        },
        {
          "output_type": "stream",
          "name": "stdout",
          "text": [
            "Epoch 1/15 train loss: 2.18\n"
          ]
        },
        {
          "output_type": "stream",
          "name": "stderr",
          "text": []
        },
        {
          "output_type": "stream",
          "name": "stdout",
          "text": [
            "Epoch 1/15 test loss: 2.07, test accuracy: 37.20%\n"
          ]
        },
        {
          "output_type": "stream",
          "name": "stderr",
          "text": []
        },
        {
          "output_type": "stream",
          "name": "stdout",
          "text": [
            "Epoch 2/15 train loss: 1.98\n"
          ]
        },
        {
          "output_type": "stream",
          "name": "stderr",
          "text": []
        },
        {
          "output_type": "stream",
          "name": "stdout",
          "text": [
            "Epoch 2/15 test loss: 1.89, test accuracy: 58.39%\n"
          ]
        },
        {
          "output_type": "stream",
          "name": "stderr",
          "text": []
        },
        {
          "output_type": "stream",
          "name": "stdout",
          "text": [
            "Epoch 3/15 train loss: 1.84\n"
          ]
        },
        {
          "output_type": "stream",
          "name": "stderr",
          "text": []
        },
        {
          "output_type": "stream",
          "name": "stdout",
          "text": [
            "Epoch 3/15 test loss: 1.81, test accuracy: 65.18%\n"
          ]
        },
        {
          "output_type": "stream",
          "name": "stderr",
          "text": []
        },
        {
          "output_type": "stream",
          "name": "stdout",
          "text": [
            "Epoch 4/15 train loss: 1.80\n"
          ]
        },
        {
          "output_type": "stream",
          "name": "stderr",
          "text": []
        },
        {
          "output_type": "stream",
          "name": "stdout",
          "text": [
            "Epoch 4/15 test loss: 1.79, test accuracy: 67.49%\n"
          ]
        },
        {
          "output_type": "stream",
          "name": "stderr",
          "text": []
        },
        {
          "output_type": "stream",
          "name": "stdout",
          "text": [
            "Epoch 5/15 train loss: 1.78\n"
          ]
        },
        {
          "output_type": "stream",
          "name": "stderr",
          "text": []
        },
        {
          "output_type": "stream",
          "name": "stdout",
          "text": [
            "Epoch 5/15 test loss: 1.76, test accuracy: 70.09%\n"
          ]
        },
        {
          "output_type": "stream",
          "name": "stderr",
          "text": []
        },
        {
          "output_type": "stream",
          "name": "stdout",
          "text": [
            "Epoch 6/15 train loss: 1.73\n"
          ]
        },
        {
          "output_type": "stream",
          "name": "stderr",
          "text": []
        },
        {
          "output_type": "stream",
          "name": "stdout",
          "text": [
            "Epoch 6/15 test loss: 1.69, test accuracy: 77.73%\n"
          ]
        },
        {
          "output_type": "stream",
          "name": "stderr",
          "text": []
        },
        {
          "output_type": "stream",
          "name": "stdout",
          "text": [
            "Epoch 7/15 train loss: 1.68\n"
          ]
        },
        {
          "output_type": "stream",
          "name": "stderr",
          "text": []
        },
        {
          "output_type": "stream",
          "name": "stdout",
          "text": [
            "Epoch 7/15 test loss: 1.65, test accuracy: 81.58%\n"
          ]
        },
        {
          "output_type": "stream",
          "name": "stderr",
          "text": []
        },
        {
          "output_type": "stream",
          "name": "stdout",
          "text": [
            "Epoch 8/15 train loss: 1.64\n"
          ]
        },
        {
          "output_type": "stream",
          "name": "stderr",
          "text": []
        },
        {
          "output_type": "stream",
          "name": "stdout",
          "text": [
            "Epoch 8/15 test loss: 1.63, test accuracy: 83.46%\n"
          ]
        },
        {
          "output_type": "stream",
          "name": "stderr",
          "text": []
        },
        {
          "output_type": "stream",
          "name": "stdout",
          "text": [
            "Epoch 9/15 train loss: 1.63\n"
          ]
        },
        {
          "output_type": "stream",
          "name": "stderr",
          "text": []
        },
        {
          "output_type": "stream",
          "name": "stdout",
          "text": [
            "Epoch 9/15 test loss: 1.62, test accuracy: 84.54%\n"
          ]
        },
        {
          "output_type": "stream",
          "name": "stderr",
          "text": []
        },
        {
          "output_type": "stream",
          "name": "stdout",
          "text": [
            "Epoch 10/15 train loss: 1.62\n"
          ]
        },
        {
          "output_type": "stream",
          "name": "stderr",
          "text": []
        },
        {
          "output_type": "stream",
          "name": "stdout",
          "text": [
            "Epoch 10/15 test loss: 1.61, test accuracy: 84.75%\n"
          ]
        },
        {
          "output_type": "stream",
          "name": "stderr",
          "text": []
        },
        {
          "output_type": "stream",
          "name": "stdout",
          "text": [
            "Epoch 11/15 train loss: 1.61\n"
          ]
        },
        {
          "output_type": "stream",
          "name": "stderr",
          "text": []
        },
        {
          "output_type": "stream",
          "name": "stdout",
          "text": [
            "Epoch 11/15 test loss: 1.61, test accuracy: 85.38%\n"
          ]
        },
        {
          "output_type": "stream",
          "name": "stderr",
          "text": []
        },
        {
          "output_type": "stream",
          "name": "stdout",
          "text": [
            "Epoch 12/15 train loss: 1.61\n"
          ]
        },
        {
          "output_type": "stream",
          "name": "stderr",
          "text": []
        },
        {
          "output_type": "stream",
          "name": "stdout",
          "text": [
            "Epoch 12/15 test loss: 1.60, test accuracy: 85.73%\n"
          ]
        },
        {
          "output_type": "stream",
          "name": "stderr",
          "text": []
        },
        {
          "output_type": "stream",
          "name": "stdout",
          "text": [
            "Epoch 13/15 train loss: 1.60\n"
          ]
        },
        {
          "output_type": "stream",
          "name": "stderr",
          "text": []
        },
        {
          "output_type": "stream",
          "name": "stdout",
          "text": [
            "Epoch 13/15 test loss: 1.59, test accuracy: 86.87%\n"
          ]
        },
        {
          "output_type": "stream",
          "name": "stderr",
          "text": []
        },
        {
          "output_type": "stream",
          "name": "stdout",
          "text": [
            "Epoch 14/15 train loss: 1.60\n"
          ]
        },
        {
          "output_type": "stream",
          "name": "stderr",
          "text": []
        },
        {
          "output_type": "stream",
          "name": "stdout",
          "text": [
            "Epoch 14/15 test loss: 1.63, test accuracy: 82.50%\n"
          ]
        },
        {
          "output_type": "stream",
          "name": "stderr",
          "text": []
        },
        {
          "output_type": "stream",
          "name": "stdout",
          "text": [
            "Epoch 15/15 train loss: 1.60\n"
          ]
        },
        {
          "output_type": "stream",
          "name": "stderr",
          "text": [
            "                                                                                     "
          ]
        },
        {
          "output_type": "stream",
          "name": "stdout",
          "text": [
            "Epoch 15/15 test loss: 1.60, test accuracy: 86.36%\n"
          ]
        },
        {
          "output_type": "stream",
          "name": "stderr",
          "text": [
            "\r"
          ]
        }
      ],
      "source": [
        "if __name__ == \"__main__\":\n",
        "    main()"
      ]
    }
  ],
  "metadata": {
    "kernelspec": {
      "display_name": "Python 3",
      "name": "python3"
    },
    "language_info": {
      "codemirror_mode": {
        "name": "ipython",
        "version": 3
      },
      "file_extension": ".py",
      "mimetype": "text/x-python",
      "name": "python",
      "nbconvert_exporter": "python",
      "pygments_lexer": "ipython3",
      "version": "3.8.18"
    },
    "colab": {
      "provenance": [],
      "gpuType": "T4"
    },
    "accelerator": "GPU"
  },
  "nbformat": 4,
  "nbformat_minor": 0
}