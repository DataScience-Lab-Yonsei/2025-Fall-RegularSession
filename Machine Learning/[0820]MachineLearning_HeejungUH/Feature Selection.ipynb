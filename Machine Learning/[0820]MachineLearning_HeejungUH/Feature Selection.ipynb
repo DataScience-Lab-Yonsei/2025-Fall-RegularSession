{
 "cells": [
  {
   "cell_type": "markdown",
   "metadata": {},
   "source": [
    "# 1-2. Feature Selction for Linear Regression\n",
    "- 기수: 14\n",
    "- 이름: 어희정\n",
    "- 작성자: 13기 한연주"
   ]
  },
  {
   "cell_type": "markdown",
   "metadata": {},
   "source": [
    "_본 과제는 9기 이승원님의 Regression 자료를 기반으로 만들었음을 밝힙니다._"
   ]
  },
  {
   "cell_type": "markdown",
   "metadata": {},
   "source": [
    "서울시 자전거 이용건수에 영향을 미치는 주요 변수를 선별하고, 이를 기반으로 이용건수를 예측할 수 있는 Linear Regression 모델을 구축해봅시다."
   ]
  },
  {
   "cell_type": "markdown",
   "metadata": {},
   "source": [
    "총 4개의 문제가 있습니다. 코드를 잘 따라가면서 Q1, Q2, Q3, Q4를 차례대로 풀어보세요"
   ]
  },
  {
   "cell_type": "markdown",
   "metadata": {},
   "source": [
    "## 01. Setting"
   ]
  },
  {
   "cell_type": "markdown",
   "metadata": {},
   "source": [
    "### 데이터 불러오기"
   ]
  },
  {
   "cell_type": "code",
   "execution_count": 9,
   "metadata": {},
   "outputs": [],
   "source": [
    "import pandas as pd\n",
    "import numpy as np"
   ]
  },
  {
   "cell_type": "code",
   "execution_count": 11,
   "metadata": {},
   "outputs": [
    {
     "data": {
      "text/html": [
       "<div>\n",
       "<style scoped>\n",
       "    .dataframe tbody tr th:only-of-type {\n",
       "        vertical-align: middle;\n",
       "    }\n",
       "\n",
       "    .dataframe tbody tr th {\n",
       "        vertical-align: top;\n",
       "    }\n",
       "\n",
       "    .dataframe thead th {\n",
       "        text-align: right;\n",
       "    }\n",
       "</style>\n",
       "<table border=\"1\" class=\"dataframe\">\n",
       "  <thead>\n",
       "    <tr style=\"text-align: right;\">\n",
       "      <th></th>\n",
       "      <th>행정동</th>\n",
       "      <th>이용건수</th>\n",
       "      <th>행정동코드</th>\n",
       "      <th>자치구</th>\n",
       "      <th>대여소개수</th>\n",
       "      <th>이용거리(M)</th>\n",
       "      <th>이용시간(분)</th>\n",
       "      <th>LCD_거치_대수</th>\n",
       "      <th>QR_거치_대수</th>\n",
       "      <th>상권_수</th>\n",
       "      <th>...</th>\n",
       "      <th>여자20s생활인구</th>\n",
       "      <th>여자30s생활인구</th>\n",
       "      <th>여자40s생활인구</th>\n",
       "      <th>여자50s생활인구</th>\n",
       "      <th>여자60s생활인구</th>\n",
       "      <th>여자70s이상생활인구</th>\n",
       "      <th>아파트_단지_수</th>\n",
       "      <th>아파트_평균_시가</th>\n",
       "      <th>길단위유동인구</th>\n",
       "      <th>직장인구</th>\n",
       "    </tr>\n",
       "  </thead>\n",
       "  <tbody>\n",
       "    <tr>\n",
       "      <th>0</th>\n",
       "      <td>청운효자동</td>\n",
       "      <td>11755</td>\n",
       "      <td>11110515</td>\n",
       "      <td>종로구</td>\n",
       "      <td>3</td>\n",
       "      <td>2.904426e+07</td>\n",
       "      <td>284027</td>\n",
       "      <td>5</td>\n",
       "      <td>59</td>\n",
       "      <td>5</td>\n",
       "      <td>...</td>\n",
       "      <td>2.885425e+06</td>\n",
       "      <td>3.143521e+06</td>\n",
       "      <td>3.745018e+06</td>\n",
       "      <td>3.170072e+06</td>\n",
       "      <td>2.157854e+06</td>\n",
       "      <td>2.640629e+06</td>\n",
       "      <td>323</td>\n",
       "      <td>276146690</td>\n",
       "      <td>14261</td>\n",
       "      <td>41</td>\n",
       "    </tr>\n",
       "    <tr>\n",
       "      <th>1</th>\n",
       "      <td>사직동</td>\n",
       "      <td>58976</td>\n",
       "      <td>11110530</td>\n",
       "      <td>종로구</td>\n",
       "      <td>12</td>\n",
       "      <td>1.243033e+08</td>\n",
       "      <td>1195279</td>\n",
       "      <td>99</td>\n",
       "      <td>139</td>\n",
       "      <td>6</td>\n",
       "      <td>...</td>\n",
       "      <td>5.133218e+06</td>\n",
       "      <td>6.282004e+06</td>\n",
       "      <td>5.561868e+06</td>\n",
       "      <td>4.041477e+06</td>\n",
       "      <td>2.650009e+06</td>\n",
       "      <td>2.740232e+06</td>\n",
       "      <td>89</td>\n",
       "      <td>371237211</td>\n",
       "      <td>34035</td>\n",
       "      <td>413</td>\n",
       "    </tr>\n",
       "    <tr>\n",
       "      <th>2</th>\n",
       "      <td>삼청동</td>\n",
       "      <td>15960</td>\n",
       "      <td>11110540</td>\n",
       "      <td>종로구</td>\n",
       "      <td>5</td>\n",
       "      <td>3.520926e+07</td>\n",
       "      <td>368791</td>\n",
       "      <td>23</td>\n",
       "      <td>38</td>\n",
       "      <td>1</td>\n",
       "      <td>...</td>\n",
       "      <td>1.157874e+06</td>\n",
       "      <td>1.197700e+06</td>\n",
       "      <td>1.266266e+06</td>\n",
       "      <td>9.427540e+05</td>\n",
       "      <td>7.849797e+05</td>\n",
       "      <td>7.954017e+05</td>\n",
       "      <td>9</td>\n",
       "      <td>401044841</td>\n",
       "      <td>6745</td>\n",
       "      <td>40</td>\n",
       "    </tr>\n",
       "    <tr>\n",
       "      <th>3</th>\n",
       "      <td>부암동</td>\n",
       "      <td>4353</td>\n",
       "      <td>11110550</td>\n",
       "      <td>종로구</td>\n",
       "      <td>5</td>\n",
       "      <td>1.896218e+07</td>\n",
       "      <td>126968</td>\n",
       "      <td>23</td>\n",
       "      <td>26</td>\n",
       "      <td>5</td>\n",
       "      <td>...</td>\n",
       "      <td>2.305686e+06</td>\n",
       "      <td>1.908983e+06</td>\n",
       "      <td>2.804853e+06</td>\n",
       "      <td>2.466070e+06</td>\n",
       "      <td>1.871393e+06</td>\n",
       "      <td>2.216136e+06</td>\n",
       "      <td>189</td>\n",
       "      <td>259634651</td>\n",
       "      <td>5001</td>\n",
       "      <td>18</td>\n",
       "    </tr>\n",
       "    <tr>\n",
       "      <th>4</th>\n",
       "      <td>평창동</td>\n",
       "      <td>3810</td>\n",
       "      <td>11110560</td>\n",
       "      <td>종로구</td>\n",
       "      <td>5</td>\n",
       "      <td>1.410898e+07</td>\n",
       "      <td>94067</td>\n",
       "      <td>15</td>\n",
       "      <td>23</td>\n",
       "      <td>3</td>\n",
       "      <td>...</td>\n",
       "      <td>1.935554e+06</td>\n",
       "      <td>2.306512e+06</td>\n",
       "      <td>3.250538e+06</td>\n",
       "      <td>3.803050e+06</td>\n",
       "      <td>3.117086e+06</td>\n",
       "      <td>3.559939e+06</td>\n",
       "      <td>294</td>\n",
       "      <td>480839259</td>\n",
       "      <td>878</td>\n",
       "      <td>26</td>\n",
       "    </tr>\n",
       "  </tbody>\n",
       "</table>\n",
       "<p>5 rows × 76 columns</p>\n",
       "</div>"
      ],
      "text/plain": [
       "     행정동   이용건수     행정동코드  자치구  대여소개수       이용거리(M)  이용시간(분)  LCD_거치_대수  \\\n",
       "0  청운효자동  11755  11110515  종로구      3  2.904426e+07   284027          5   \n",
       "1    사직동  58976  11110530  종로구     12  1.243033e+08  1195279         99   \n",
       "2    삼청동  15960  11110540  종로구      5  3.520926e+07   368791         23   \n",
       "3    부암동   4353  11110550  종로구      5  1.896218e+07   126968         23   \n",
       "4    평창동   3810  11110560  종로구      5  1.410898e+07    94067         15   \n",
       "\n",
       "   QR_거치_대수  상권_수  ...     여자20s생활인구     여자30s생활인구     여자40s생활인구  \\\n",
       "0        59     5  ...  2.885425e+06  3.143521e+06  3.745018e+06   \n",
       "1       139     6  ...  5.133218e+06  6.282004e+06  5.561868e+06   \n",
       "2        38     1  ...  1.157874e+06  1.197700e+06  1.266266e+06   \n",
       "3        26     5  ...  2.305686e+06  1.908983e+06  2.804853e+06   \n",
       "4        23     3  ...  1.935554e+06  2.306512e+06  3.250538e+06   \n",
       "\n",
       "      여자50s생활인구     여자60s생활인구   여자70s이상생활인구  아파트_단지_수  아파트_평균_시가  길단위유동인구  \\\n",
       "0  3.170072e+06  2.157854e+06  2.640629e+06       323  276146690    14261   \n",
       "1  4.041477e+06  2.650009e+06  2.740232e+06        89  371237211    34035   \n",
       "2  9.427540e+05  7.849797e+05  7.954017e+05         9  401044841     6745   \n",
       "3  2.466070e+06  1.871393e+06  2.216136e+06       189  259634651     5001   \n",
       "4  3.803050e+06  3.117086e+06  3.559939e+06       294  480839259      878   \n",
       "\n",
       "   직장인구  \n",
       "0    41  \n",
       "1   413  \n",
       "2    40  \n",
       "3    18  \n",
       "4    26  \n",
       "\n",
       "[5 rows x 76 columns]"
      ]
     },
     "execution_count": 11,
     "metadata": {},
     "output_type": "execute_result"
    }
   ],
   "source": [
    "df = pd.read_excel(\"bicycle_data.xlsx\")\n",
    "df.head()"
   ]
  },
  {
   "cell_type": "markdown",
   "metadata": {},
   "source": [
    "### 데이터 전처리"
   ]
  },
  {
   "cell_type": "markdown",
   "metadata": {},
   "source": [
    "분석에 필요하지 않은 열을 제거한다. 이는 독립변수를 임의적으로 제거하는 것이 아닌 애초에 불필요한 정보를 제거하는 것이다. "
   ]
  },
  {
   "cell_type": "code",
   "execution_count": 15,
   "metadata": {},
   "outputs": [
    {
     "data": {
      "text/plain": [
       "Index(['이용건수', '상권_수', '집객시설_수', '관공서_수', '은행_수', '총병원_수', '종합병원_수', '일반_병원_수',\n",
       "       '약국_수', '유치원_수', '초중고등학교_수', '초등학교_수', '중학교_수', '고등학교_수', '대학교_수',\n",
       "       '백화점_수', '슈퍼마켓_수', '극장_수', '숙박_시설_수', '0s_foreigner', '10s_foreigner',\n",
       "       '20s_foreigner', '30s_foreigner', '40s_foreigner', '50s_foreigner',\n",
       "       '60s_foreigner', '70s_foreigner', '80s_foreigner', '90s_foreigner',\n",
       "       '100s_foreigner', '0s_korean', '10s_korean', '20s_korean', '30s_korean',\n",
       "       '40s_korean', '50s_korean', '60s_korean', '70s_korean', '80s_korean',\n",
       "       '90s_korean', '100s_korean', '총생활인구수', '대중교통_승차', '지하철_승차', '버스_승차',\n",
       "       '대중교통_하차', '지하철_하차', '버스_하차', '남자0s생활인구', '남자10s생활인구', '남자20s생활인구',\n",
       "       '남자30s생활인구', '남자40s생활인구', '남자50s생활인구', '남자60s생활인구', '남자70s이상생활인구',\n",
       "       '여자0s생활인구', '여자10s생활인구', '여자20s생활인구', '여자30s생활인구', '여자40s생활인구',\n",
       "       '여자50s생활인구', '여자60s생활인구', '여자70s이상생활인구', '아파트_단지_수', '아파트_평균_시가',\n",
       "       '길단위유동인구', '직장인구'],\n",
       "      dtype='object')"
      ]
     },
     "execution_count": 15,
     "metadata": {},
     "output_type": "execute_result"
    }
   ],
   "source": [
    "df1 = df.drop(['행정동', '행정동코드', '자치구', '대여소개수', '이용거리(M)', '이용시간(분)', 'LCD_거치_대수', 'QR_거치_대수'], axis = 1)\n",
    "\n",
    "# Check dropped columns\n",
    "df1.columns"
   ]
  },
  {
   "cell_type": "markdown",
   "metadata": {},
   "source": [
    "현재 각 변수들의 범위는 상당히 다르다. "
   ]
  },
  {
   "cell_type": "code",
   "execution_count": 39,
   "metadata": {},
   "outputs": [
    {
     "data": {
      "text/html": [
       "<div>\n",
       "<style scoped>\n",
       "    .dataframe tbody tr th:only-of-type {\n",
       "        vertical-align: middle;\n",
       "    }\n",
       "\n",
       "    .dataframe tbody tr th {\n",
       "        vertical-align: top;\n",
       "    }\n",
       "\n",
       "    .dataframe thead th {\n",
       "        text-align: right;\n",
       "    }\n",
       "</style>\n",
       "<table border=\"1\" class=\"dataframe\">\n",
       "  <thead>\n",
       "    <tr style=\"text-align: right;\">\n",
       "      <th></th>\n",
       "      <th>이용건수</th>\n",
       "      <th>상권_수</th>\n",
       "      <th>집객시설_수</th>\n",
       "      <th>관공서_수</th>\n",
       "      <th>은행_수</th>\n",
       "      <th>총병원_수</th>\n",
       "      <th>종합병원_수</th>\n",
       "      <th>일반_병원_수</th>\n",
       "      <th>약국_수</th>\n",
       "      <th>유치원_수</th>\n",
       "      <th>...</th>\n",
       "      <th>여자20s생활인구</th>\n",
       "      <th>여자30s생활인구</th>\n",
       "      <th>여자40s생활인구</th>\n",
       "      <th>여자50s생활인구</th>\n",
       "      <th>여자60s생활인구</th>\n",
       "      <th>여자70s이상생활인구</th>\n",
       "      <th>아파트_단지_수</th>\n",
       "      <th>아파트_평균_시가</th>\n",
       "      <th>길단위유동인구</th>\n",
       "      <th>직장인구</th>\n",
       "    </tr>\n",
       "  </thead>\n",
       "  <tbody>\n",
       "    <tr>\n",
       "      <th>0</th>\n",
       "      <td>11755</td>\n",
       "      <td>5</td>\n",
       "      <td>24</td>\n",
       "      <td>3</td>\n",
       "      <td>1</td>\n",
       "      <td>0</td>\n",
       "      <td>0</td>\n",
       "      <td>0</td>\n",
       "      <td>1</td>\n",
       "      <td>0</td>\n",
       "      <td>...</td>\n",
       "      <td>2.885425e+06</td>\n",
       "      <td>3.143521e+06</td>\n",
       "      <td>3.745018e+06</td>\n",
       "      <td>3.170072e+06</td>\n",
       "      <td>2.157854e+06</td>\n",
       "      <td>2.640629e+06</td>\n",
       "      <td>323</td>\n",
       "      <td>276146690</td>\n",
       "      <td>14261</td>\n",
       "      <td>41</td>\n",
       "    </tr>\n",
       "    <tr>\n",
       "      <th>1</th>\n",
       "      <td>58976</td>\n",
       "      <td>6</td>\n",
       "      <td>200</td>\n",
       "      <td>12</td>\n",
       "      <td>22</td>\n",
       "      <td>0</td>\n",
       "      <td>0</td>\n",
       "      <td>0</td>\n",
       "      <td>20</td>\n",
       "      <td>0</td>\n",
       "      <td>...</td>\n",
       "      <td>5.133218e+06</td>\n",
       "      <td>6.282004e+06</td>\n",
       "      <td>5.561868e+06</td>\n",
       "      <td>4.041477e+06</td>\n",
       "      <td>2.650009e+06</td>\n",
       "      <td>2.740232e+06</td>\n",
       "      <td>89</td>\n",
       "      <td>371237211</td>\n",
       "      <td>34035</td>\n",
       "      <td>413</td>\n",
       "    </tr>\n",
       "    <tr>\n",
       "      <th>2</th>\n",
       "      <td>15960</td>\n",
       "      <td>1</td>\n",
       "      <td>16</td>\n",
       "      <td>3</td>\n",
       "      <td>1</td>\n",
       "      <td>0</td>\n",
       "      <td>0</td>\n",
       "      <td>0</td>\n",
       "      <td>0</td>\n",
       "      <td>0</td>\n",
       "      <td>...</td>\n",
       "      <td>1.157874e+06</td>\n",
       "      <td>1.197700e+06</td>\n",
       "      <td>1.266266e+06</td>\n",
       "      <td>9.427540e+05</td>\n",
       "      <td>7.849797e+05</td>\n",
       "      <td>7.954017e+05</td>\n",
       "      <td>9</td>\n",
       "      <td>401044841</td>\n",
       "      <td>6745</td>\n",
       "      <td>40</td>\n",
       "    </tr>\n",
       "    <tr>\n",
       "      <th>3</th>\n",
       "      <td>4353</td>\n",
       "      <td>5</td>\n",
       "      <td>46</td>\n",
       "      <td>3</td>\n",
       "      <td>2</td>\n",
       "      <td>0</td>\n",
       "      <td>0</td>\n",
       "      <td>0</td>\n",
       "      <td>2</td>\n",
       "      <td>0</td>\n",
       "      <td>...</td>\n",
       "      <td>2.305686e+06</td>\n",
       "      <td>1.908983e+06</td>\n",
       "      <td>2.804853e+06</td>\n",
       "      <td>2.466070e+06</td>\n",
       "      <td>1.871393e+06</td>\n",
       "      <td>2.216136e+06</td>\n",
       "      <td>189</td>\n",
       "      <td>259634651</td>\n",
       "      <td>5001</td>\n",
       "      <td>18</td>\n",
       "    </tr>\n",
       "    <tr>\n",
       "      <th>4</th>\n",
       "      <td>3810</td>\n",
       "      <td>3</td>\n",
       "      <td>86</td>\n",
       "      <td>4</td>\n",
       "      <td>1</td>\n",
       "      <td>0</td>\n",
       "      <td>0</td>\n",
       "      <td>0</td>\n",
       "      <td>2</td>\n",
       "      <td>1</td>\n",
       "      <td>...</td>\n",
       "      <td>1.935554e+06</td>\n",
       "      <td>2.306512e+06</td>\n",
       "      <td>3.250538e+06</td>\n",
       "      <td>3.803050e+06</td>\n",
       "      <td>3.117086e+06</td>\n",
       "      <td>3.559939e+06</td>\n",
       "      <td>294</td>\n",
       "      <td>480839259</td>\n",
       "      <td>878</td>\n",
       "      <td>26</td>\n",
       "    </tr>\n",
       "  </tbody>\n",
       "</table>\n",
       "<p>5 rows × 68 columns</p>\n",
       "</div>"
      ],
      "text/plain": [
       "    이용건수  상권_수  집객시설_수  관공서_수  은행_수  총병원_수  종합병원_수  일반_병원_수  약국_수  유치원_수  ...  \\\n",
       "0  11755     5      24      3     1      0       0        0     1      0  ...   \n",
       "1  58976     6     200     12    22      0       0        0    20      0  ...   \n",
       "2  15960     1      16      3     1      0       0        0     0      0  ...   \n",
       "3   4353     5      46      3     2      0       0        0     2      0  ...   \n",
       "4   3810     3      86      4     1      0       0        0     2      1  ...   \n",
       "\n",
       "      여자20s생활인구     여자30s생활인구     여자40s생활인구     여자50s생활인구     여자60s생활인구  \\\n",
       "0  2.885425e+06  3.143521e+06  3.745018e+06  3.170072e+06  2.157854e+06   \n",
       "1  5.133218e+06  6.282004e+06  5.561868e+06  4.041477e+06  2.650009e+06   \n",
       "2  1.157874e+06  1.197700e+06  1.266266e+06  9.427540e+05  7.849797e+05   \n",
       "3  2.305686e+06  1.908983e+06  2.804853e+06  2.466070e+06  1.871393e+06   \n",
       "4  1.935554e+06  2.306512e+06  3.250538e+06  3.803050e+06  3.117086e+06   \n",
       "\n",
       "    여자70s이상생활인구  아파트_단지_수  아파트_평균_시가  길단위유동인구  직장인구  \n",
       "0  2.640629e+06       323  276146690    14261    41  \n",
       "1  2.740232e+06        89  371237211    34035   413  \n",
       "2  7.954017e+05         9  401044841     6745    40  \n",
       "3  2.216136e+06       189  259634651     5001    18  \n",
       "4  3.559939e+06       294  480839259      878    26  \n",
       "\n",
       "[5 rows x 68 columns]"
      ]
     },
     "execution_count": 39,
     "metadata": {},
     "output_type": "execute_result"
    }
   ],
   "source": [
    "df1.head()"
   ]
  },
  {
   "cell_type": "markdown",
   "metadata": {},
   "source": [
    "회귀분석은 데이터의 단위(범위)에 민감하기 때문에 Scaling이 필요하다. \n",
    "\n",
    "Scaler는 다양한 종류가 있으나, 우선 Robust Scaler를 사용한다. Robust Scaler는 중앙값과 사분위수 범위를 사용해 이상치에 덜 민감하다는 특징이 있다. 이에 따라 추가적인 이상치 처리는 진행하지 않는다.\n",
    "\n",
    "Robust Scaler 외 대표적인 Scaling 방법은 다음과 같다.\n",
    "- 데이터의 평균과 표준편차를 사용해 정규화하는 StandardScaler\n",
    "- 최댓값과 최솟값이 각각 1과 0이 되도록 스케일링하는 MinMaxScaler\n",
    "- 절댓값의 범위가 0과 1 사이가 되도록 스케이링하는 MaxAbsScaler\n",
    "\n",
    "이들 모두 이상치에 민감하다"
   ]
  },
  {
   "cell_type": "code",
   "execution_count": 41,
   "metadata": {},
   "outputs": [],
   "source": [
    "from sklearn.preprocessing import RobustScaler\n",
    "\n",
    "# 변형 객체 생성\n",
    "robust_scaler = RobustScaler()\n",
    "\n",
    "# 훈련데이터의 모수 분포 저장\n",
    "robust_scaler.fit(df1)\n",
    "\n",
    "# 훈련 데이터 스케일링\n",
    "all_scaled = robust_scaler.transform(df1)\n",
    "df2_scaled = pd.DataFrame(all_scaled, columns = df1.columns)\n",
    "\n",
    "# OLS에 알맞게 컬럼명 변경 (원래 숫자로 되어 있던 컬럼명에 언더바를 추가해줌)\n",
    "df2_scaled.columns = ['이용건수', '상권_수', '집객시설_수', '관공서_수', '은행_수', '총병원_수', '종합병원_수', '일반_병원_수',\n",
    "                      '약국_수', '유치원_수', '초중고등학교_수', '초등학교_수', '중학교_수', '고등학교_수', '대학교_수',\n",
    "                      '백화점_수', '슈퍼마켓_수', '극장_수', '숙박_시설_수', '_0s_foreigner', '_10s_foreigner',\n",
    "                      '_20s_foreigner', '_30s_foreigner', '_40s_foreigner', '_50s_foreigner',\n",
    "                      '_60s_foreigner', '_70s_foreigner', '_80s_foreigner', '_90s_foreigner',\n",
    "                      '_100s_foreigner', '_0s_korean', '_10s_korean', '_20s_korean', '_30s_korean',\n",
    "                      '_40s_korean', '_50s_korean', '_60s_korean', '_70s_korean', '_80s_korean',\n",
    "                      '_90s_korean', '_100s_korean', '총생활인구수', '대중교통_승차', '지하철_승차', '버스_승차',\n",
    "                      '대중교통_하차', '지하철_하차', '버스_하차', '남자0s생활인구', '남자10s생활인구', '남자20s생활인구',\n",
    "                      '남자30s생활인구', '남자40s생활인구', '남자50s생활인구', '남자60s생활인구', '남자70s이상생활인구',\n",
    "                      '여자0s생활인구', '여자10s생활인구', '여자20s생활인구', '여자30s생활인구', '여자40s생활인구',\n",
    "                      '여자50s생활인구', '여자60s생활인구', '여자70s이상생활인구', '아파트_단지_수', '아파트_평균_시가',\n",
    "                      '길단위유동인구', '직장인구']"
   ]
  },
  {
   "cell_type": "code",
   "execution_count": 18,
   "metadata": {},
   "outputs": [
    {
     "data": {
      "text/html": [
       "<div>\n",
       "<style scoped>\n",
       "    .dataframe tbody tr th:only-of-type {\n",
       "        vertical-align: middle;\n",
       "    }\n",
       "\n",
       "    .dataframe tbody tr th {\n",
       "        vertical-align: top;\n",
       "    }\n",
       "\n",
       "    .dataframe thead th {\n",
       "        text-align: right;\n",
       "    }\n",
       "</style>\n",
       "<table border=\"1\" class=\"dataframe\">\n",
       "  <thead>\n",
       "    <tr style=\"text-align: right;\">\n",
       "      <th></th>\n",
       "      <th>이용건수</th>\n",
       "      <th>상권_수</th>\n",
       "      <th>집객시설_수</th>\n",
       "      <th>관공서_수</th>\n",
       "      <th>은행_수</th>\n",
       "      <th>총병원_수</th>\n",
       "      <th>종합병원_수</th>\n",
       "      <th>일반_병원_수</th>\n",
       "      <th>약국_수</th>\n",
       "      <th>유치원_수</th>\n",
       "      <th>...</th>\n",
       "      <th>여자20s생활인구</th>\n",
       "      <th>여자30s생활인구</th>\n",
       "      <th>여자40s생활인구</th>\n",
       "      <th>여자50s생활인구</th>\n",
       "      <th>여자60s생활인구</th>\n",
       "      <th>여자70s이상생활인구</th>\n",
       "      <th>아파트_단지_수</th>\n",
       "      <th>아파트_평균_시가</th>\n",
       "      <th>길단위유동인구</th>\n",
       "      <th>직장인구</th>\n",
       "    </tr>\n",
       "  </thead>\n",
       "  <tbody>\n",
       "    <tr>\n",
       "      <th>0</th>\n",
       "      <td>-0.370264</td>\n",
       "      <td>0.333333</td>\n",
       "      <td>-0.422145</td>\n",
       "      <td>0.5</td>\n",
       "      <td>0.00</td>\n",
       "      <td>0.0</td>\n",
       "      <td>0.0</td>\n",
       "      <td>0.0</td>\n",
       "      <td>-0.555556</td>\n",
       "      <td>0.0</td>\n",
       "      <td>...</td>\n",
       "      <td>-0.186164</td>\n",
       "      <td>-0.188702</td>\n",
       "      <td>0.023044</td>\n",
       "      <td>-0.156918</td>\n",
       "      <td>-0.370213</td>\n",
       "      <td>-0.254954</td>\n",
       "      <td>0.444662</td>\n",
       "      <td>0.046755</td>\n",
       "      <td>-0.752024</td>\n",
       "      <td>0.000000</td>\n",
       "    </tr>\n",
       "    <tr>\n",
       "      <th>1</th>\n",
       "      <td>1.192504</td>\n",
       "      <td>0.666667</td>\n",
       "      <td>2.013841</td>\n",
       "      <td>5.0</td>\n",
       "      <td>5.25</td>\n",
       "      <td>0.0</td>\n",
       "      <td>0.0</td>\n",
       "      <td>0.0</td>\n",
       "      <td>1.555556</td>\n",
       "      <td>0.0</td>\n",
       "      <td>...</td>\n",
       "      <td>0.476562</td>\n",
       "      <td>0.844300</td>\n",
       "      <td>0.655541</td>\n",
       "      <td>0.240888</td>\n",
       "      <td>-0.086386</td>\n",
       "      <td>-0.200455</td>\n",
       "      <td>-0.472086</td>\n",
       "      <td>0.450052</td>\n",
       "      <td>-0.385100</td>\n",
       "      <td>5.975904</td>\n",
       "    </tr>\n",
       "    <tr>\n",
       "      <th>2</th>\n",
       "      <td>-0.231101</td>\n",
       "      <td>-1.000000</td>\n",
       "      <td>-0.532872</td>\n",
       "      <td>0.5</td>\n",
       "      <td>0.00</td>\n",
       "      <td>0.0</td>\n",
       "      <td>0.0</td>\n",
       "      <td>0.0</td>\n",
       "      <td>-0.666667</td>\n",
       "      <td>0.0</td>\n",
       "      <td>...</td>\n",
       "      <td>-0.695505</td>\n",
       "      <td>-0.829151</td>\n",
       "      <td>-0.839882</td>\n",
       "      <td>-1.173713</td>\n",
       "      <td>-1.161956</td>\n",
       "      <td>-1.264595</td>\n",
       "      <td>-0.785504</td>\n",
       "      <td>0.576471</td>\n",
       "      <td>-0.891490</td>\n",
       "      <td>-0.016064</td>\n",
       "    </tr>\n",
       "    <tr>\n",
       "      <th>3</th>\n",
       "      <td>-0.615232</td>\n",
       "      <td>0.333333</td>\n",
       "      <td>-0.117647</td>\n",
       "      <td>0.5</td>\n",
       "      <td>0.25</td>\n",
       "      <td>0.0</td>\n",
       "      <td>0.0</td>\n",
       "      <td>0.0</td>\n",
       "      <td>-0.444444</td>\n",
       "      <td>0.0</td>\n",
       "      <td>...</td>\n",
       "      <td>-0.357091</td>\n",
       "      <td>-0.595038</td>\n",
       "      <td>-0.304255</td>\n",
       "      <td>-0.478303</td>\n",
       "      <td>-0.535416</td>\n",
       "      <td>-0.487221</td>\n",
       "      <td>-0.080313</td>\n",
       "      <td>-0.023275</td>\n",
       "      <td>-0.923851</td>\n",
       "      <td>-0.369478</td>\n",
       "    </tr>\n",
       "    <tr>\n",
       "      <th>4</th>\n",
       "      <td>-0.633202</td>\n",
       "      <td>-0.333333</td>\n",
       "      <td>0.435986</td>\n",
       "      <td>1.0</td>\n",
       "      <td>0.00</td>\n",
       "      <td>0.0</td>\n",
       "      <td>0.0</td>\n",
       "      <td>0.0</td>\n",
       "      <td>-0.444444</td>\n",
       "      <td>1.0</td>\n",
       "      <td>...</td>\n",
       "      <td>-0.466219</td>\n",
       "      <td>-0.464196</td>\n",
       "      <td>-0.149099</td>\n",
       "      <td>0.132043</td>\n",
       "      <td>0.182979</td>\n",
       "      <td>0.248059</td>\n",
       "      <td>0.331048</td>\n",
       "      <td>0.914894</td>\n",
       "      <td>-1.000357</td>\n",
       "      <td>-0.240964</td>\n",
       "    </tr>\n",
       "  </tbody>\n",
       "</table>\n",
       "<p>5 rows × 68 columns</p>\n",
       "</div>"
      ],
      "text/plain": [
       "       이용건수      상권_수    집객시설_수  관공서_수  은행_수  총병원_수  종합병원_수  일반_병원_수  \\\n",
       "0 -0.370264  0.333333 -0.422145    0.5  0.00    0.0     0.0      0.0   \n",
       "1  1.192504  0.666667  2.013841    5.0  5.25    0.0     0.0      0.0   \n",
       "2 -0.231101 -1.000000 -0.532872    0.5  0.00    0.0     0.0      0.0   \n",
       "3 -0.615232  0.333333 -0.117647    0.5  0.25    0.0     0.0      0.0   \n",
       "4 -0.633202 -0.333333  0.435986    1.0  0.00    0.0     0.0      0.0   \n",
       "\n",
       "       약국_수  유치원_수  ...  여자20s생활인구  여자30s생활인구  여자40s생활인구  여자50s생활인구  \\\n",
       "0 -0.555556    0.0  ...  -0.186164  -0.188702   0.023044  -0.156918   \n",
       "1  1.555556    0.0  ...   0.476562   0.844300   0.655541   0.240888   \n",
       "2 -0.666667    0.0  ...  -0.695505  -0.829151  -0.839882  -1.173713   \n",
       "3 -0.444444    0.0  ...  -0.357091  -0.595038  -0.304255  -0.478303   \n",
       "4 -0.444444    1.0  ...  -0.466219  -0.464196  -0.149099   0.132043   \n",
       "\n",
       "   여자60s생활인구  여자70s이상생활인구  아파트_단지_수  아파트_평균_시가   길단위유동인구      직장인구  \n",
       "0  -0.370213    -0.254954  0.444662   0.046755 -0.752024  0.000000  \n",
       "1  -0.086386    -0.200455 -0.472086   0.450052 -0.385100  5.975904  \n",
       "2  -1.161956    -1.264595 -0.785504   0.576471 -0.891490 -0.016064  \n",
       "3  -0.535416    -0.487221 -0.080313  -0.023275 -0.923851 -0.369478  \n",
       "4   0.182979     0.248059  0.331048   0.914894 -1.000357 -0.240964  \n",
       "\n",
       "[5 rows x 68 columns]"
      ]
     },
     "execution_count": 18,
     "metadata": {},
     "output_type": "execute_result"
    }
   ],
   "source": [
    "df2_scaled.head()"
   ]
  },
  {
   "cell_type": "markdown",
   "metadata": {},
   "source": [
    "참고로 OLS를 실행할 때에는 컬럼명이 숫자로 시작할 경우 오류가 발생한다. 이번 과제에서는 해당되지 않지만 차후 회귀분석을 할 때 유의하길 바란다."
   ]
  },
  {
   "cell_type": "markdown",
   "metadata": {},
   "source": [
    "## 02. Intro to Feature Selection for Linear Regression"
   ]
  },
  {
   "cell_type": "markdown",
   "metadata": {},
   "source": [
    "### Feature Selection"
   ]
  },
  {
   "cell_type": "markdown",
   "metadata": {},
   "source": [
    "독립변수와 종속변수에 해당하는 변수들을 각각 할당한다."
   ]
  },
  {
   "cell_type": "code",
   "execution_count": 74,
   "metadata": {},
   "outputs": [],
   "source": [
    "X = df2_scaled.drop('이용건수', axis = 1)\n",
    "y = df2_scaled['이용건수']"
   ]
  },
  {
   "cell_type": "markdown",
   "metadata": {},
   "source": [
    "Python에서는 자체적인 Feature Selection module을 제공하지 않으므로, 본 과제에서는 함께 제공한 feature_selection.py를 활용한다. "
   ]
  },
  {
   "cell_type": "code",
   "execution_count": 76,
   "metadata": {},
   "outputs": [],
   "source": [
    "import utils.feature_selection as fsel"
   ]
  },
  {
   "cell_type": "markdown",
   "metadata": {},
   "source": [
    "Q1. 가장 먼저 linear regression 모델을 구축하기 위해 AIC를 변수 선택 기준으로 활용하고 ForwardSelection 방법을 적용하려고 한다. 다음 코드의 들어갈 적절한 변수명을 기입하라."
   ]
  },
  {
   "cell_type": "code",
   "execution_count": 84,
   "metadata": {
    "scrolled": true
   },
   "outputs": [
    {
     "name": "stdout",
     "output_type": "stream",
     "text": [
      "Character Variables (Dummies Generated, First Dummies Dropped): []\n",
      "Entered : 남자40s생활인구 \tAIC : 1280.964912822545\n",
      "Entered : _30s_korean \tAIC : 1270.9460933043408\n",
      "Entered : 아파트_단지_수 \tAIC : 1244.1841297555256\n",
      "Entered : 길단위유동인구 \tAIC : 1239.2670646825086\n"
     ]
    },
    {
     "name": "stderr",
     "output_type": "stream",
     "text": [
      "/Users/hjuh/DSL/utils/feature_selection.py:144: FutureWarning: The behavior of DataFrame concatenation with empty or all-NA entries is deprecated. In a future version, this will no longer exclude empty or all-NA columns when determining the result dtypes. To retain the old behavior, exclude the relevant entries before the concat operation.\n",
      "  pvals = pd.concat([pvals, pd.DataFrame([[j, model.pvalues[j]]],\n",
      "/Users/hjuh/DSL/utils/feature_selection.py:144: FutureWarning: The behavior of DataFrame concatenation with empty or all-NA entries is deprecated. In a future version, this will no longer exclude empty or all-NA columns when determining the result dtypes. To retain the old behavior, exclude the relevant entries before the concat operation.\n",
      "  pvals = pd.concat([pvals, pd.DataFrame([[j, model.pvalues[j]]],\n",
      "/Users/hjuh/DSL/utils/feature_selection.py:144: FutureWarning: The behavior of DataFrame concatenation with empty or all-NA entries is deprecated. In a future version, this will no longer exclude empty or all-NA columns when determining the result dtypes. To retain the old behavior, exclude the relevant entries before the concat operation.\n",
      "  pvals = pd.concat([pvals, pd.DataFrame([[j, model.pvalues[j]]],\n",
      "/Users/hjuh/DSL/utils/feature_selection.py:144: FutureWarning: The behavior of DataFrame concatenation with empty or all-NA entries is deprecated. In a future version, this will no longer exclude empty or all-NA columns when determining the result dtypes. To retain the old behavior, exclude the relevant entries before the concat operation.\n",
      "  pvals = pd.concat([pvals, pd.DataFrame([[j, model.pvalues[j]]],\n",
      "/Users/hjuh/DSL/utils/feature_selection.py:144: FutureWarning: The behavior of DataFrame concatenation with empty or all-NA entries is deprecated. In a future version, this will no longer exclude empty or all-NA columns when determining the result dtypes. To retain the old behavior, exclude the relevant entries before the concat operation.\n",
      "  pvals = pd.concat([pvals, pd.DataFrame([[j, model.pvalues[j]]],\n"
     ]
    },
    {
     "name": "stdout",
     "output_type": "stream",
     "text": [
      "Entered : 초등학교_수 \tAIC : 1234.87268860349\n",
      "Entered : 직장인구 \tAIC : 1230.9220038536073\n",
      "Entered : 지하철_하차 \tAIC : 1228.155526320979\n",
      "Break : Significance Level\n",
      "                            OLS Regression Results                            \n",
      "==============================================================================\n",
      "Dep. Variable:                   이용건수   R-squared:                       0.386\n",
      "Model:                            OLS   Adj. R-squared:                  0.375\n",
      "Method:                 Least Squares   F-statistic:                     37.31\n",
      "Date:                Tue, 19 Aug 2025   Prob (F-statistic):           1.75e-40\n",
      "Time:                        16:46:21   Log-Likelihood:                -606.08\n",
      "No. Observations:                 424   AIC:                             1228.\n",
      "Df Residuals:                     416   BIC:                             1261.\n",
      "Df Model:                           7                                         \n",
      "Covariance Type:            nonrobust                                         \n",
      "===============================================================================\n",
      "                  coef    std err          t      P>|t|      [0.025      0.975]\n",
      "-------------------------------------------------------------------------------\n",
      "intercept       0.1797      0.057      3.148      0.002       0.067       0.292\n",
      "남자40s생활인구       0.4433      0.071      6.228      0.000       0.303       0.583\n",
      "_30s_korean     0.4910      0.090      5.451      0.000       0.314       0.668\n",
      "아파트_단지_수       -0.3688      0.072     -5.098      0.000      -0.511      -0.227\n",
      "길단위유동인구        -0.1829      0.067     -2.712      0.007      -0.316      -0.050\n",
      "초등학교_수          0.7257      0.273      2.662      0.008       0.190       1.262\n",
      "직장인구           -0.0668      0.024     -2.775      0.006      -0.114      -0.019\n",
      "지하철_하차          0.1150      0.053      2.169      0.031       0.011       0.219\n",
      "==============================================================================\n",
      "Omnibus:                      386.066   Durbin-Watson:                   1.532\n",
      "Prob(Omnibus):                  0.000   Jarque-Bera (JB):            20893.959\n",
      "Skew:                           3.582   Prob(JB):                         0.00\n",
      "Kurtosis:                      36.636   Cond. No.                         15.5\n",
      "==============================================================================\n",
      "\n",
      "Notes:\n",
      "[1] Standard Errors assume that the covariance matrix of the errors is correctly specified.\n",
      "AIC: 1228.155526320979\n",
      "BIC: 1260.5533939628347\n",
      "Final Variables: ['intercept', '남자40s생활인구', '_30s_korean', '아파트_단지_수', '길단위유동인구', '초등학교_수', '직장인구', '지하철_하차']\n"
     ]
    },
    {
     "name": "stderr",
     "output_type": "stream",
     "text": [
      "/Users/hjuh/DSL/utils/feature_selection.py:144: FutureWarning: The behavior of DataFrame concatenation with empty or all-NA entries is deprecated. In a future version, this will no longer exclude empty or all-NA columns when determining the result dtypes. To retain the old behavior, exclude the relevant entries before the concat operation.\n",
      "  pvals = pd.concat([pvals, pd.DataFrame([[j, model.pvalues[j]]],\n",
      "/Users/hjuh/DSL/utils/feature_selection.py:144: FutureWarning: The behavior of DataFrame concatenation with empty or all-NA entries is deprecated. In a future version, this will no longer exclude empty or all-NA columns when determining the result dtypes. To retain the old behavior, exclude the relevant entries before the concat operation.\n",
      "  pvals = pd.concat([pvals, pd.DataFrame([[j, model.pvalues[j]]],\n",
      "/Users/hjuh/DSL/utils/feature_selection.py:144: FutureWarning: The behavior of DataFrame concatenation with empty or all-NA entries is deprecated. In a future version, this will no longer exclude empty or all-NA columns when determining the result dtypes. To retain the old behavior, exclude the relevant entries before the concat operation.\n",
      "  pvals = pd.concat([pvals, pd.DataFrame([[j, model.pvalues[j]]],\n"
     ]
    },
    {
     "data": {
      "text/plain": [
       "['intercept',\n",
       " '남자40s생활인구',\n",
       " '_30s_korean',\n",
       " '아파트_단지_수',\n",
       " '길단위유동인구',\n",
       " '초등학교_수',\n",
       " '직장인구',\n",
       " '지하철_하차']"
      ]
     },
     "execution_count": 84,
     "metadata": {},
     "output_type": "execute_result"
    }
   ],
   "source": [
    "# feature_selection.py 를 참조하여 model_type과 elimination_criteria에 들어갈 적절한 변수명을 기입하시오.\n",
    "fsel.forwardSelection(X, y, model_type = \"linear\", elimination_criteria = \"aic\")"
   ]
  },
  {
   "cell_type": "markdown",
   "metadata": {},
   "source": [
    "Q2. 선택된 변수들을 대상으로 다중공선성 문제를 확인하라. "
   ]
  },
  {
   "cell_type": "code",
   "execution_count": 90,
   "metadata": {},
   "outputs": [],
   "source": [
    "# 직접 선택된 변수들을 list 형태로 저장하시오. \n",
    "selected_cols = ['남자40s생활인구','_30s_korean','아파트_단지_수','길단위유동인구','초등학교_수','직장인구','지하철_하차']"
   ]
  },
  {
   "cell_type": "code",
   "execution_count": 92,
   "metadata": {},
   "outputs": [
    {
     "name": "stdout",
     "output_type": "stream",
     "text": [
      "남자40s생활인구      2.612474\n",
      "_30s_korean    1.970809\n",
      "아파트_단지_수       1.338337\n",
      "길단위유동인구        1.042099\n",
      "초등학교_수         1.042781\n",
      "직장인구           1.444073\n",
      "지하철_하차         1.753606\n",
      "Intercept      1.327840\n",
      "dtype: float64\n"
     ]
    },
    {
     "data": {
      "text/plain": [
       "['남자40s생활인구', '_30s_korean', '아파트_단지_수', '길단위유동인구', '초등학교_수', '직장인구', '지하철_하차']"
      ]
     },
     "execution_count": 92,
     "metadata": {},
     "output_type": "execute_result"
    }
   ],
   "source": [
    "from statsmodels.stats.outliers_influence import variance_inflation_factor\n",
    "\n",
    "# VIF 데이터프레임 초기화\n",
    "vif_data = df2_scaled[selected_cols].copy()  # X를 복사하여 사용합니다.\n",
    "\n",
    "# VIF 계산\n",
    "vif_data['Intercept'] = 1  # 상수항을 위한 Intercept 추가\n",
    "vif_series = pd.Series([variance_inflation_factor(vif_data.values, i) for i in range(vif_data.shape[1])], index = vif_data.columns)\n",
    "\n",
    "vif_df = pd.DataFrame(vif_series)\n",
    "vif_df = vif_df.reset_index()\n",
    "vif_df.columns = ['col', 'vif']\n",
    "vif_df\n",
    "\n",
    "# VIF 출력\n",
    "print(vif_series)\n",
    "\n",
    "# VIF 10 이상 삭제\n",
    "selected_cols = []\n",
    "\n",
    "for i in range(len(vif_df)):\n",
    "    if vif_df['vif'][i] < 10:\n",
    "        selected_cols.append(vif_df['col'][i])\n",
    "\n",
    "selected_cols.remove('Intercept')\n",
    "selected_cols"
   ]
  },
  {
   "cell_type": "markdown",
   "metadata": {},
   "source": [
    "A2. 확인한 다중공선성 문제에 대해 서술하시오: 모든 변수의 VIF 값이 5 미만, 다중공선성 문제가 없음."
   ]
  },
  {
   "cell_type": "markdown",
   "metadata": {},
   "source": [
    "### 회귀 모델 적합"
   ]
  },
  {
   "cell_type": "code",
   "execution_count": 142,
   "metadata": {},
   "outputs": [],
   "source": [
    "import statsmodels.formula.api as smf\n",
    "# 회귀 모델 적합\n",
    "model = smf.ols(formula = \"이용건수~ \" + \"+\".join(selected_cols).replace(\" \", \"_\"),\n",
    "                data = df2_scaled)\n",
    "result = model.fit()"
   ]
  },
  {
   "cell_type": "code",
   "execution_count": 96,
   "metadata": {},
   "outputs": [
    {
     "data": {
      "text/html": [
       "<table class=\"simpletable\">\n",
       "<caption>OLS Regression Results</caption>\n",
       "<tr>\n",
       "  <th>Dep. Variable:</th>          <td>이용건수</td>       <th>  R-squared:         </th> <td>   0.386</td>\n",
       "</tr>\n",
       "<tr>\n",
       "  <th>Model:</th>                   <td>OLS</td>       <th>  Adj. R-squared:    </th> <td>   0.375</td>\n",
       "</tr>\n",
       "<tr>\n",
       "  <th>Method:</th>             <td>Least Squares</td>  <th>  F-statistic:       </th> <td>   37.31</td>\n",
       "</tr>\n",
       "<tr>\n",
       "  <th>Date:</th>             <td>Tue, 19 Aug 2025</td> <th>  Prob (F-statistic):</th> <td>1.75e-40</td>\n",
       "</tr>\n",
       "<tr>\n",
       "  <th>Time:</th>                 <td>19:41:42</td>     <th>  Log-Likelihood:    </th> <td> -606.08</td>\n",
       "</tr>\n",
       "<tr>\n",
       "  <th>No. Observations:</th>      <td>   424</td>      <th>  AIC:               </th> <td>   1228.</td>\n",
       "</tr>\n",
       "<tr>\n",
       "  <th>Df Residuals:</th>          <td>   416</td>      <th>  BIC:               </th> <td>   1261.</td>\n",
       "</tr>\n",
       "<tr>\n",
       "  <th>Df Model:</th>              <td>     7</td>      <th>                     </th>     <td> </td>   \n",
       "</tr>\n",
       "<tr>\n",
       "  <th>Covariance Type:</th>      <td>nonrobust</td>    <th>                     </th>     <td> </td>   \n",
       "</tr>\n",
       "</table>\n",
       "<table class=\"simpletable\">\n",
       "<tr>\n",
       "       <td></td>          <th>coef</th>     <th>std err</th>      <th>t</th>      <th>P>|t|</th>  <th>[0.025</th>    <th>0.975]</th>  \n",
       "</tr>\n",
       "<tr>\n",
       "  <th>Intercept</th>   <td>    0.1797</td> <td>    0.057</td> <td>    3.148</td> <td> 0.002</td> <td>    0.067</td> <td>    0.292</td>\n",
       "</tr>\n",
       "<tr>\n",
       "  <th>남자40s생활인구</th>   <td>    0.4433</td> <td>    0.071</td> <td>    6.228</td> <td> 0.000</td> <td>    0.303</td> <td>    0.583</td>\n",
       "</tr>\n",
       "<tr>\n",
       "  <th>_30s_korean</th> <td>    0.4910</td> <td>    0.090</td> <td>    5.451</td> <td> 0.000</td> <td>    0.314</td> <td>    0.668</td>\n",
       "</tr>\n",
       "<tr>\n",
       "  <th>아파트_단지_수</th>    <td>   -0.3688</td> <td>    0.072</td> <td>   -5.098</td> <td> 0.000</td> <td>   -0.511</td> <td>   -0.227</td>\n",
       "</tr>\n",
       "<tr>\n",
       "  <th>길단위유동인구</th>     <td>   -0.1829</td> <td>    0.067</td> <td>   -2.712</td> <td> 0.007</td> <td>   -0.316</td> <td>   -0.050</td>\n",
       "</tr>\n",
       "<tr>\n",
       "  <th>초등학교_수</th>      <td>    0.7257</td> <td>    0.273</td> <td>    2.662</td> <td> 0.008</td> <td>    0.190</td> <td>    1.262</td>\n",
       "</tr>\n",
       "<tr>\n",
       "  <th>직장인구</th>        <td>   -0.0668</td> <td>    0.024</td> <td>   -2.775</td> <td> 0.006</td> <td>   -0.114</td> <td>   -0.019</td>\n",
       "</tr>\n",
       "<tr>\n",
       "  <th>지하철_하차</th>      <td>    0.1150</td> <td>    0.053</td> <td>    2.169</td> <td> 0.031</td> <td>    0.011</td> <td>    0.219</td>\n",
       "</tr>\n",
       "</table>\n",
       "<table class=\"simpletable\">\n",
       "<tr>\n",
       "  <th>Omnibus:</th>       <td>386.066</td> <th>  Durbin-Watson:     </th> <td>   1.532</td> \n",
       "</tr>\n",
       "<tr>\n",
       "  <th>Prob(Omnibus):</th> <td> 0.000</td>  <th>  Jarque-Bera (JB):  </th> <td>20893.959</td>\n",
       "</tr>\n",
       "<tr>\n",
       "  <th>Skew:</th>          <td> 3.582</td>  <th>  Prob(JB):          </th> <td>    0.00</td> \n",
       "</tr>\n",
       "<tr>\n",
       "  <th>Kurtosis:</th>      <td>36.636</td>  <th>  Cond. No.          </th> <td>    15.5</td> \n",
       "</tr>\n",
       "</table><br/><br/>Notes:<br/>[1] Standard Errors assume that the covariance matrix of the errors is correctly specified."
      ],
      "text/latex": [
       "\\begin{center}\n",
       "\\begin{tabular}{lclc}\n",
       "\\toprule\n",
       "\\textbf{Dep. Variable:}    &       이용건수       & \\textbf{  R-squared:         } &     0.386   \\\\\n",
       "\\textbf{Model:}            &       OLS        & \\textbf{  Adj. R-squared:    } &     0.375   \\\\\n",
       "\\textbf{Method:}           &  Least Squares   & \\textbf{  F-statistic:       } &     37.31   \\\\\n",
       "\\textbf{Date:}             & Tue, 19 Aug 2025 & \\textbf{  Prob (F-statistic):} &  1.75e-40   \\\\\n",
       "\\textbf{Time:}             &     19:41:42     & \\textbf{  Log-Likelihood:    } &   -606.08   \\\\\n",
       "\\textbf{No. Observations:} &         424      & \\textbf{  AIC:               } &     1228.   \\\\\n",
       "\\textbf{Df Residuals:}     &         416      & \\textbf{  BIC:               } &     1261.   \\\\\n",
       "\\textbf{Df Model:}         &           7      & \\textbf{                     } &             \\\\\n",
       "\\textbf{Covariance Type:}  &    nonrobust     & \\textbf{                     } &             \\\\\n",
       "\\bottomrule\n",
       "\\end{tabular}\n",
       "\\begin{tabular}{lcccccc}\n",
       "                       & \\textbf{coef} & \\textbf{std err} & \\textbf{t} & \\textbf{P$> |$t$|$} & \\textbf{[0.025} & \\textbf{0.975]}  \\\\\n",
       "\\midrule\n",
       "\\textbf{Intercept}     &       0.1797  &        0.057     &     3.148  &         0.002        &        0.067    &        0.292     \\\\\n",
       "\\textbf{남자40s생활인구}     &       0.4433  &        0.071     &     6.228  &         0.000        &        0.303    &        0.583     \\\\\n",
       "\\textbf{\\_30s\\_korean} &       0.4910  &        0.090     &     5.451  &         0.000        &        0.314    &        0.668     \\\\\n",
       "\\textbf{아파트\\_단지\\_수}    &      -0.3688  &        0.072     &    -5.098  &         0.000        &       -0.511    &       -0.227     \\\\\n",
       "\\textbf{길단위유동인구}       &      -0.1829  &        0.067     &    -2.712  &         0.007        &       -0.316    &       -0.050     \\\\\n",
       "\\textbf{초등학교\\_수}       &       0.7257  &        0.273     &     2.662  &         0.008        &        0.190    &        1.262     \\\\\n",
       "\\textbf{직장인구}          &      -0.0668  &        0.024     &    -2.775  &         0.006        &       -0.114    &       -0.019     \\\\\n",
       "\\textbf{지하철\\_하차}       &       0.1150  &        0.053     &     2.169  &         0.031        &        0.011    &        0.219     \\\\\n",
       "\\bottomrule\n",
       "\\end{tabular}\n",
       "\\begin{tabular}{lclc}\n",
       "\\textbf{Omnibus:}       & 386.066 & \\textbf{  Durbin-Watson:     } &     1.532  \\\\\n",
       "\\textbf{Prob(Omnibus):} &   0.000 & \\textbf{  Jarque-Bera (JB):  } & 20893.959  \\\\\n",
       "\\textbf{Skew:}          &   3.582 & \\textbf{  Prob(JB):          } &      0.00  \\\\\n",
       "\\textbf{Kurtosis:}      &  36.636 & \\textbf{  Cond. No.          } &      15.5  \\\\\n",
       "\\bottomrule\n",
       "\\end{tabular}\n",
       "%\\caption{OLS Regression Results}\n",
       "\\end{center}\n",
       "\n",
       "Notes: \\newline\n",
       " [1] Standard Errors assume that the covariance matrix of the errors is correctly specified."
      ],
      "text/plain": [
       "<class 'statsmodels.iolib.summary.Summary'>\n",
       "\"\"\"\n",
       "                            OLS Regression Results                            \n",
       "==============================================================================\n",
       "Dep. Variable:                   이용건수   R-squared:                       0.386\n",
       "Model:                            OLS   Adj. R-squared:                  0.375\n",
       "Method:                 Least Squares   F-statistic:                     37.31\n",
       "Date:                Tue, 19 Aug 2025   Prob (F-statistic):           1.75e-40\n",
       "Time:                        19:41:42   Log-Likelihood:                -606.08\n",
       "No. Observations:                 424   AIC:                             1228.\n",
       "Df Residuals:                     416   BIC:                             1261.\n",
       "Df Model:                           7                                         \n",
       "Covariance Type:            nonrobust                                         \n",
       "===============================================================================\n",
       "                  coef    std err          t      P>|t|      [0.025      0.975]\n",
       "-------------------------------------------------------------------------------\n",
       "Intercept       0.1797      0.057      3.148      0.002       0.067       0.292\n",
       "남자40s생활인구       0.4433      0.071      6.228      0.000       0.303       0.583\n",
       "_30s_korean     0.4910      0.090      5.451      0.000       0.314       0.668\n",
       "아파트_단지_수       -0.3688      0.072     -5.098      0.000      -0.511      -0.227\n",
       "길단위유동인구        -0.1829      0.067     -2.712      0.007      -0.316      -0.050\n",
       "초등학교_수          0.7257      0.273      2.662      0.008       0.190       1.262\n",
       "직장인구           -0.0668      0.024     -2.775      0.006      -0.114      -0.019\n",
       "지하철_하차          0.1150      0.053      2.169      0.031       0.011       0.219\n",
       "==============================================================================\n",
       "Omnibus:                      386.066   Durbin-Watson:                   1.532\n",
       "Prob(Omnibus):                  0.000   Jarque-Bera (JB):            20893.959\n",
       "Skew:                           3.582   Prob(JB):                         0.00\n",
       "Kurtosis:                      36.636   Cond. No.                         15.5\n",
       "==============================================================================\n",
       "\n",
       "Notes:\n",
       "[1] Standard Errors assume that the covariance matrix of the errors is correctly specified.\n",
       "\"\"\""
      ]
     },
     "execution_count": 96,
     "metadata": {},
     "output_type": "execute_result"
    }
   ],
   "source": [
    "result.summary()"
   ]
  },
  {
   "cell_type": "markdown",
   "metadata": {},
   "source": [
    "### 모델 평가"
   ]
  },
  {
   "cell_type": "code",
   "execution_count": 98,
   "metadata": {},
   "outputs": [
    {
     "name": "stdout",
     "output_type": "stream",
     "text": [
      "train: 296 | test: 128\n"
     ]
    }
   ],
   "source": [
    "# sklearn 패키지의 model_selection 모듈에서 train_test_split 함수를 사용\n",
    "from sklearn.model_selection import train_test_split\n",
    "\n",
    "train, test = train_test_split(df2_scaled, test_size = 0.3, random_state = 1)\n",
    "print('train:', len(train), '| test:', len(test))"
   ]
  },
  {
   "cell_type": "code",
   "execution_count": 100,
   "metadata": {},
   "outputs": [],
   "source": [
    "X_train = train.drop(['이용건수'], axis = 1)\n",
    "y_train = train['이용건수']\n",
    "\n",
    "X_test = test.drop(['이용건수'], axis = 1)\n",
    "y_test = test['이용건수']"
   ]
  },
  {
   "cell_type": "code",
   "execution_count": 102,
   "metadata": {},
   "outputs": [],
   "source": [
    "from sklearn.metrics import r2_score as r2\n",
    "from sklearn.metrics import mean_absolute_error as mae\n",
    "from sklearn.metrics import mean_absolute_percentage_error as mape\n",
    "from sklearn.metrics import mean_squared_error as mse\n",
    "\n",
    "pred = result.predict(X_test)"
   ]
  },
  {
   "cell_type": "code",
   "execution_count": 104,
   "metadata": {},
   "outputs": [
    {
     "name": "stdout",
     "output_type": "stream",
     "text": [
      "r2: 0.4645130532216031\n",
      "mse: 1.595029464250069\n",
      "mae: 0.689016731517567\n",
      "mape: 2.2034124083054962\n"
     ]
    }
   ],
   "source": [
    "print(f'r2: {r2(y_test, pred)}')\n",
    "print(f'mse: {mse(y_test, pred)}')\n",
    "print(f'mae: {mae(y_test, pred)}')\n",
    "print(f'mape: {mape(y_test, pred)}')"
   ]
  },
  {
   "cell_type": "markdown",
   "metadata": {},
   "source": [
    "Q3. 선형 회귀 모형의 기본 가정은 다음과 같다. 이 가정들을 모두 만족해야만 해석을 신뢰할 수 있다. QQ-plot과 Residual Plot을 활용해 적합한 모델이 가정을 만족하는지 확인하라.\n",
    "- 선형성: 독립변수와 종속변수 사이에 선형 관계가 존재한다\n",
    "- 독립성: 오차항은 서로 독립적이어야 한다. \n",
    "- 정규성: 오차항은 정규분포를 따라야 한다.\n",
    "- 등분산성: 오차항의 분산은 모든 관측값에서 일정해야 한다.\n",
    "- 다중공선성 없음"
   ]
  },
  {
   "cell_type": "code",
   "execution_count": 149,
   "metadata": {},
   "outputs": [],
   "source": [
    "import statsmodels.api as sm\n",
    "import seaborn as sns\n",
    "import matplotlib as plt"
   ]
  },
  {
   "cell_type": "code",
   "execution_count": 151,
   "metadata": {
    "scrolled": true
   },
   "outputs": [
    {
     "data": {
      "image/png": "[encoded data removed]",
      "text/plain": [
       "<Figure size 640x480 with 1 Axes>"
      ]
     },
     "execution_count": 151,
     "metadata": {},
     "output_type": "execute_result"
    },
    {
     "data": {
      "image/png": "[encoded data removed]",
      "text/plain": [
       "<Figure size 640x480 with 1 Axes>"
      ]
     },
     "metadata": {},
     "output_type": "display_data"
    }
   ],
   "source": [
    "sm.qqplot(result.resid, fit = True, line = '45')"
   ]
  },
  {
   "cell_type": "code",
   "execution_count": 110,
   "metadata": {},
   "outputs": [
    {
     "data": {
      "text/plain": [
       "<Axes: xlabel='fitted', ylabel='resid'>"
      ]
     },
     "execution_count": 110,
     "metadata": {},
     "output_type": "execute_result"
    },
    {
     "data": {
      "image/png": "[encoded data removed]",
      "text/plain": [
       "<Figure size 640x480 with 1 Axes>"
      ]
     },
     "metadata": {},
     "output_type": "display_data"
    }
   ],
   "source": [
    "eqvar = pd.DataFrame({'fitted': result.fittedvalues, 'resid' : result.resid })\n",
    "sns.residplot(x = 'fitted', y = 'resid', data = eqvar, line_kws = {'color':'red'}, lowess = True)"
   ]
  },
  {
   "cell_type": "markdown",
   "metadata": {},
   "source": [
    "A3. 위에서 이미 확인한 다중공선성 문제의 답변과 종합하여 적합한 회귀분석의 기본 가정 만족 여부에 대해 서술하시오: \n",
    "선형성: 완벽하지 않음 — 직선만으로는 다 못 설명함.\n",
    "독립성: 불명 \n",
    "정규성: 아님 — 가운데는 선에 가깝지만, 오른쪽 꼬리 점들이 선 위로 크게 벗어남 → 오른쪽 꼬리 두꺼움 + 큰 양의 잔차 존재.\n",
    "등분산성: 아님 — 오른쪽으로 갈수록 잔차 퍼짐이 커짐.\n",
    "다중공선성: 문제 없음 — VIF 낮음"
   ]
  },
  {
   "cell_type": "markdown",
   "metadata": {},
   "source": [
    "## 03. Comparison Experiment"
   ]
  },
  {
   "cell_type": "markdown",
   "metadata": {},
   "source": [
    "Forward/Backward Selection 방법과 각종 Feature Selection 기준을 조합해 Linear Regression을 실습해봅시다."
   ]
  },
  {
   "cell_type": "markdown",
   "metadata": {},
   "source": [
    "feature_selection.py의 elimination_criteria 옵션은 총 4가지이다.\n",
    "1) AIC (Akaike Information Criterion)\n",
    "2) BIC (Bayesian Information Criterion)\n",
    "3) R2 & Adjusted R2 (전체 오차에 대한 회귀 모형의 설명력)\n",
    "\n",
    "Forward + AIC 조합은 02. Intro to Feature Selection for Linear Regression에서 이미 확인했다. 여기서는 나머지 7가지 조합에 대해 살펴보자."
   ]
  },
  {
   "cell_type": "markdown",
   "metadata": {},
   "source": [
    "### Case 1-2) Forward + BIC"
   ]
  },
  {
   "cell_type": "code",
   "execution_count": 118,
   "metadata": {},
   "outputs": [
    {
     "name": "stdout",
     "output_type": "stream",
     "text": [
      "Character Variables (Dummies Generated, First Dummies Dropped): []\n",
      "Entered : 남자40s생활인구 \tBIC : 1289.064379733009\n",
      "Entered : _30s_korean \tBIC : 1283.0952936700367\n",
      "Entered : 아파트_단지_수 \tBIC : 1260.3830635764534\n",
      "Entered : 길단위유동인구 \tBIC : 1259.5157319586683\n"
     ]
    },
    {
     "name": "stderr",
     "output_type": "stream",
     "text": [
      "/Users/hjuh/DSL/utils/feature_selection.py:144: FutureWarning: The behavior of DataFrame concatenation with empty or all-NA entries is deprecated. In a future version, this will no longer exclude empty or all-NA columns when determining the result dtypes. To retain the old behavior, exclude the relevant entries before the concat operation.\n",
      "  pvals = pd.concat([pvals, pd.DataFrame([[j, model.pvalues[j]]],\n",
      "/Users/hjuh/DSL/utils/feature_selection.py:144: FutureWarning: The behavior of DataFrame concatenation with empty or all-NA entries is deprecated. In a future version, this will no longer exclude empty or all-NA columns when determining the result dtypes. To retain the old behavior, exclude the relevant entries before the concat operation.\n",
      "  pvals = pd.concat([pvals, pd.DataFrame([[j, model.pvalues[j]]],\n",
      "/Users/hjuh/DSL/utils/feature_selection.py:144: FutureWarning: The behavior of DataFrame concatenation with empty or all-NA entries is deprecated. In a future version, this will no longer exclude empty or all-NA columns when determining the result dtypes. To retain the old behavior, exclude the relevant entries before the concat operation.\n",
      "  pvals = pd.concat([pvals, pd.DataFrame([[j, model.pvalues[j]]],\n",
      "/Users/hjuh/DSL/utils/feature_selection.py:144: FutureWarning: The behavior of DataFrame concatenation with empty or all-NA entries is deprecated. In a future version, this will no longer exclude empty or all-NA columns when determining the result dtypes. To retain the old behavior, exclude the relevant entries before the concat operation.\n",
      "  pvals = pd.concat([pvals, pd.DataFrame([[j, model.pvalues[j]]],\n",
      "/Users/hjuh/DSL/utils/feature_selection.py:144: FutureWarning: The behavior of DataFrame concatenation with empty or all-NA entries is deprecated. In a future version, this will no longer exclude empty or all-NA columns when determining the result dtypes. To retain the old behavior, exclude the relevant entries before the concat operation.\n",
      "  pvals = pd.concat([pvals, pd.DataFrame([[j, model.pvalues[j]]],\n"
     ]
    },
    {
     "name": "stdout",
     "output_type": "stream",
     "text": [
      "Entered : 초등학교_수 \tBIC : 1259.1710893348816\n",
      "break : Criteria\n",
      "                            OLS Regression Results                            \n",
      "==============================================================================\n",
      "Dep. Variable:                   이용건수   R-squared:                       0.370\n",
      "Model:                            OLS   Adj. R-squared:                  0.362\n",
      "Method:                 Least Squares   F-statistic:                     49.09\n",
      "Date:                Tue, 19 Aug 2025   Prob (F-statistic):           6.11e-40\n",
      "Time:                        20:46:54   Log-Likelihood:                -611.44\n",
      "No. Observations:                 424   AIC:                             1235.\n",
      "Df Residuals:                     418   BIC:                             1259.\n",
      "Df Model:                           5                                         \n",
      "Covariance Type:            nonrobust                                         \n",
      "===============================================================================\n",
      "                  coef    std err          t      P>|t|      [0.025      0.975]\n",
      "-------------------------------------------------------------------------------\n",
      "intercept       0.1884      0.054      3.479      0.001       0.082       0.295\n",
      "남자40s생활인구       0.4447      0.054      8.299      0.000       0.339       0.550\n",
      "_30s_korean     0.5268      0.087      6.076      0.000       0.356       0.697\n",
      "아파트_단지_수       -0.3757      0.073     -5.159      0.000      -0.519      -0.233\n",
      "길단위유동인구        -0.1851      0.068     -2.724      0.007      -0.319      -0.052\n",
      "초등학교_수          0.6877      0.273      2.520      0.012       0.151       1.224\n",
      "==============================================================================\n",
      "Omnibus:                      388.494   Durbin-Watson:                   1.487\n",
      "Prob(Omnibus):                  0.000   Jarque-Bera (JB):            21209.872\n",
      "Skew:                           3.616   Prob(JB):                         0.00\n",
      "Kurtosis:                      36.886   Cond. No.                         7.54\n",
      "==============================================================================\n",
      "\n",
      "Notes:\n",
      "[1] Standard Errors assume that the covariance matrix of the errors is correctly specified.\n",
      "AIC: 1234.87268860349\n",
      "BIC: 1259.1710893348816\n",
      "Final Variables: ['intercept', '남자40s생활인구', '_30s_korean', '아파트_단지_수', '길단위유동인구', '초등학교_수']\n"
     ]
    },
    {
     "name": "stderr",
     "output_type": "stream",
     "text": [
      "/Users/hjuh/DSL/utils/feature_selection.py:144: FutureWarning: The behavior of DataFrame concatenation with empty or all-NA entries is deprecated. In a future version, this will no longer exclude empty or all-NA columns when determining the result dtypes. To retain the old behavior, exclude the relevant entries before the concat operation.\n",
      "  pvals = pd.concat([pvals, pd.DataFrame([[j, model.pvalues[j]]],\n"
     ]
    },
    {
     "data": {
      "text/plain": [
       "['intercept', '남자40s생활인구', '_30s_korean', '아파트_단지_수', '길단위유동인구', '초등학교_수']"
      ]
     },
     "execution_count": 118,
     "metadata": {},
     "output_type": "execute_result"
    }
   ],
   "source": [
    "fsel.forwardSelection(X, y, model_type = 'linear', elimination_criteria = 'bic')"
   ]
  },
  {
   "cell_type": "code",
   "execution_count": 120,
   "metadata": {},
   "outputs": [
    {
     "name": "stdout",
     "output_type": "stream",
     "text": [
      "남자40s생활인구      1.450302\n",
      "_30s_korean    1.789341\n",
      "아파트_단지_수       1.328948\n",
      "길단위유동인구        1.036088\n",
      "초등학교_수         1.023490\n",
      "Intercept      1.169870\n",
      "dtype: float64\n"
     ]
    },
    {
     "data": {
      "text/plain": [
       "['남자40s생활인구', '_30s_korean', '아파트_단지_수', '길단위유동인구', '초등학교_수']"
      ]
     },
     "execution_count": 120,
     "metadata": {},
     "output_type": "execute_result"
    }
   ],
   "source": [
    "selected_cols = ['남자40s생활인구', '_30s_korean', '아파트_단지_수', '길단위유동인구', '초등학교_수']\n",
    "\n",
    "vif_data = df2_scaled[selected_cols].copy()\n",
    "vif_data['Intercept'] = 1  # 상수항을 위한 Intercept 추가\n",
    "vif_series = pd.Series([variance_inflation_factor(vif_data.values, i) for i in range(vif_data.shape[1])], index = vif_data.columns)\n",
    "\n",
    "vif_df = pd.DataFrame(vif_series)\n",
    "vif_df = vif_df.reset_index()\n",
    "vif_df.columns = ['col', 'vif']\n",
    "vif_df\n",
    "\n",
    "print(vif_series)\n",
    "\n",
    "selected_cols = []\n",
    "\n",
    "for i in range(len(vif_df)):\n",
    "    if vif_df['vif'][i] < 10:\n",
    "        selected_cols.append(vif_df['col'][i])\n",
    "\n",
    "selected_cols.remove('Intercept')\n",
    "selected_cols"
   ]
  },
  {
   "cell_type": "code",
   "execution_count": 122,
   "metadata": {},
   "outputs": [
    {
     "data": {
      "text/html": [
       "<table class=\"simpletable\">\n",
       "<caption>OLS Regression Results</caption>\n",
       "<tr>\n",
       "  <th>Dep. Variable:</th>          <td>이용건수</td>       <th>  R-squared:         </th> <td>   0.370</td>\n",
       "</tr>\n",
       "<tr>\n",
       "  <th>Model:</th>                   <td>OLS</td>       <th>  Adj. R-squared:    </th> <td>   0.362</td>\n",
       "</tr>\n",
       "<tr>\n",
       "  <th>Method:</th>             <td>Least Squares</td>  <th>  F-statistic:       </th> <td>   49.09</td>\n",
       "</tr>\n",
       "<tr>\n",
       "  <th>Date:</th>             <td>Tue, 19 Aug 2025</td> <th>  Prob (F-statistic):</th> <td>6.11e-40</td>\n",
       "</tr>\n",
       "<tr>\n",
       "  <th>Time:</th>                 <td>20:47:11</td>     <th>  Log-Likelihood:    </th> <td> -611.44</td>\n",
       "</tr>\n",
       "<tr>\n",
       "  <th>No. Observations:</th>      <td>   424</td>      <th>  AIC:               </th> <td>   1235.</td>\n",
       "</tr>\n",
       "<tr>\n",
       "  <th>Df Residuals:</th>          <td>   418</td>      <th>  BIC:               </th> <td>   1259.</td>\n",
       "</tr>\n",
       "<tr>\n",
       "  <th>Df Model:</th>              <td>     5</td>      <th>                     </th>     <td> </td>   \n",
       "</tr>\n",
       "<tr>\n",
       "  <th>Covariance Type:</th>      <td>nonrobust</td>    <th>                     </th>     <td> </td>   \n",
       "</tr>\n",
       "</table>\n",
       "<table class=\"simpletable\">\n",
       "<tr>\n",
       "       <td></td>          <th>coef</th>     <th>std err</th>      <th>t</th>      <th>P>|t|</th>  <th>[0.025</th>    <th>0.975]</th>  \n",
       "</tr>\n",
       "<tr>\n",
       "  <th>Intercept</th>   <td>    0.1884</td> <td>    0.054</td> <td>    3.479</td> <td> 0.001</td> <td>    0.082</td> <td>    0.295</td>\n",
       "</tr>\n",
       "<tr>\n",
       "  <th>남자40s생활인구</th>   <td>    0.4447</td> <td>    0.054</td> <td>    8.299</td> <td> 0.000</td> <td>    0.339</td> <td>    0.550</td>\n",
       "</tr>\n",
       "<tr>\n",
       "  <th>_30s_korean</th> <td>    0.5268</td> <td>    0.087</td> <td>    6.076</td> <td> 0.000</td> <td>    0.356</td> <td>    0.697</td>\n",
       "</tr>\n",
       "<tr>\n",
       "  <th>아파트_단지_수</th>    <td>   -0.3757</td> <td>    0.073</td> <td>   -5.159</td> <td> 0.000</td> <td>   -0.519</td> <td>   -0.233</td>\n",
       "</tr>\n",
       "<tr>\n",
       "  <th>길단위유동인구</th>     <td>   -0.1851</td> <td>    0.068</td> <td>   -2.724</td> <td> 0.007</td> <td>   -0.319</td> <td>   -0.052</td>\n",
       "</tr>\n",
       "<tr>\n",
       "  <th>초등학교_수</th>      <td>    0.6877</td> <td>    0.273</td> <td>    2.520</td> <td> 0.012</td> <td>    0.151</td> <td>    1.224</td>\n",
       "</tr>\n",
       "</table>\n",
       "<table class=\"simpletable\">\n",
       "<tr>\n",
       "  <th>Omnibus:</th>       <td>388.494</td> <th>  Durbin-Watson:     </th> <td>   1.487</td> \n",
       "</tr>\n",
       "<tr>\n",
       "  <th>Prob(Omnibus):</th> <td> 0.000</td>  <th>  Jarque-Bera (JB):  </th> <td>21209.872</td>\n",
       "</tr>\n",
       "<tr>\n",
       "  <th>Skew:</th>          <td> 3.616</td>  <th>  Prob(JB):          </th> <td>    0.00</td> \n",
       "</tr>\n",
       "<tr>\n",
       "  <th>Kurtosis:</th>      <td>36.886</td>  <th>  Cond. No.          </th> <td>    7.54</td> \n",
       "</tr>\n",
       "</table><br/><br/>Notes:<br/>[1] Standard Errors assume that the covariance matrix of the errors is correctly specified."
      ],
      "text/latex": [
       "\\begin{center}\n",
       "\\begin{tabular}{lclc}\n",
       "\\toprule\n",
       "\\textbf{Dep. Variable:}    &       이용건수       & \\textbf{  R-squared:         } &     0.370   \\\\\n",
       "\\textbf{Model:}            &       OLS        & \\textbf{  Adj. R-squared:    } &     0.362   \\\\\n",
       "\\textbf{Method:}           &  Least Squares   & \\textbf{  F-statistic:       } &     49.09   \\\\\n",
       "\\textbf{Date:}             & Tue, 19 Aug 2025 & \\textbf{  Prob (F-statistic):} &  6.11e-40   \\\\\n",
       "\\textbf{Time:}             &     20:47:11     & \\textbf{  Log-Likelihood:    } &   -611.44   \\\\\n",
       "\\textbf{No. Observations:} &         424      & \\textbf{  AIC:               } &     1235.   \\\\\n",
       "\\textbf{Df Residuals:}     &         418      & \\textbf{  BIC:               } &     1259.   \\\\\n",
       "\\textbf{Df Model:}         &           5      & \\textbf{                     } &             \\\\\n",
       "\\textbf{Covariance Type:}  &    nonrobust     & \\textbf{                     } &             \\\\\n",
       "\\bottomrule\n",
       "\\end{tabular}\n",
       "\\begin{tabular}{lcccccc}\n",
       "                       & \\textbf{coef} & \\textbf{std err} & \\textbf{t} & \\textbf{P$> |$t$|$} & \\textbf{[0.025} & \\textbf{0.975]}  \\\\\n",
       "\\midrule\n",
       "\\textbf{Intercept}     &       0.1884  &        0.054     &     3.479  &         0.001        &        0.082    &        0.295     \\\\\n",
       "\\textbf{남자40s생활인구}     &       0.4447  &        0.054     &     8.299  &         0.000        &        0.339    &        0.550     \\\\\n",
       "\\textbf{\\_30s\\_korean} &       0.5268  &        0.087     &     6.076  &         0.000        &        0.356    &        0.697     \\\\\n",
       "\\textbf{아파트\\_단지\\_수}    &      -0.3757  &        0.073     &    -5.159  &         0.000        &       -0.519    &       -0.233     \\\\\n",
       "\\textbf{길단위유동인구}       &      -0.1851  &        0.068     &    -2.724  &         0.007        &       -0.319    &       -0.052     \\\\\n",
       "\\textbf{초등학교\\_수}       &       0.6877  &        0.273     &     2.520  &         0.012        &        0.151    &        1.224     \\\\\n",
       "\\bottomrule\n",
       "\\end{tabular}\n",
       "\\begin{tabular}{lclc}\n",
       "\\textbf{Omnibus:}       & 388.494 & \\textbf{  Durbin-Watson:     } &     1.487  \\\\\n",
       "\\textbf{Prob(Omnibus):} &   0.000 & \\textbf{  Jarque-Bera (JB):  } & 21209.872  \\\\\n",
       "\\textbf{Skew:}          &   3.616 & \\textbf{  Prob(JB):          } &      0.00  \\\\\n",
       "\\textbf{Kurtosis:}      &  36.886 & \\textbf{  Cond. No.          } &      7.54  \\\\\n",
       "\\bottomrule\n",
       "\\end{tabular}\n",
       "%\\caption{OLS Regression Results}\n",
       "\\end{center}\n",
       "\n",
       "Notes: \\newline\n",
       " [1] Standard Errors assume that the covariance matrix of the errors is correctly specified."
      ],
      "text/plain": [
       "<class 'statsmodels.iolib.summary.Summary'>\n",
       "\"\"\"\n",
       "                            OLS Regression Results                            \n",
       "==============================================================================\n",
       "Dep. Variable:                   이용건수   R-squared:                       0.370\n",
       "Model:                            OLS   Adj. R-squared:                  0.362\n",
       "Method:                 Least Squares   F-statistic:                     49.09\n",
       "Date:                Tue, 19 Aug 2025   Prob (F-statistic):           6.11e-40\n",
       "Time:                        20:47:11   Log-Likelihood:                -611.44\n",
       "No. Observations:                 424   AIC:                             1235.\n",
       "Df Residuals:                     418   BIC:                             1259.\n",
       "Df Model:                           5                                         \n",
       "Covariance Type:            nonrobust                                         \n",
       "===============================================================================\n",
       "                  coef    std err          t      P>|t|      [0.025      0.975]\n",
       "-------------------------------------------------------------------------------\n",
       "Intercept       0.1884      0.054      3.479      0.001       0.082       0.295\n",
       "남자40s생활인구       0.4447      0.054      8.299      0.000       0.339       0.550\n",
       "_30s_korean     0.5268      0.087      6.076      0.000       0.356       0.697\n",
       "아파트_단지_수       -0.3757      0.073     -5.159      0.000      -0.519      -0.233\n",
       "길단위유동인구        -0.1851      0.068     -2.724      0.007      -0.319      -0.052\n",
       "초등학교_수          0.6877      0.273      2.520      0.012       0.151       1.224\n",
       "==============================================================================\n",
       "Omnibus:                      388.494   Durbin-Watson:                   1.487\n",
       "Prob(Omnibus):                  0.000   Jarque-Bera (JB):            21209.872\n",
       "Skew:                           3.616   Prob(JB):                         0.00\n",
       "Kurtosis:                      36.886   Cond. No.                         7.54\n",
       "==============================================================================\n",
       "\n",
       "Notes:\n",
       "[1] Standard Errors assume that the covariance matrix of the errors is correctly specified.\n",
       "\"\"\""
      ]
     },
     "execution_count": 122,
     "metadata": {},
     "output_type": "execute_result"
    }
   ],
   "source": [
    "model = smf.ols(formula = \"이용건수~ \" + \"+\".join(selected_cols).replace(\" \", \"_\"),\n",
    "                 data = df2_scaled)\n",
    "result = model.fit()\n",
    "result.summary()"
   ]
  },
  {
   "cell_type": "code",
   "execution_count": 124,
   "metadata": {},
   "outputs": [
    {
     "name": "stdout",
     "output_type": "stream",
     "text": [
      "r2: 0.4414173114847344\n",
      "mse: 1.6638236501600023\n",
      "mae: 0.6992123155312671\n",
      "mape: 2.3375219880267406\n"
     ]
    }
   ],
   "source": [
    "pred = result.predict(X_test)\n",
    "\n",
    "print(f'r2: {r2(y_test, pred)}')\n",
    "print(f'mse: {mse(y_test, pred)}')\n",
    "print(f'mae: {mae(y_test, pred)}')\n",
    "print(f'mape: {mape(y_test, pred)}')"
   ]
  },
  {
   "cell_type": "code",
   "execution_count": 126,
   "metadata": {},
   "outputs": [
    {
     "data": {
      "image/png": "[encoded data removed]",
      "text/plain": [
       "<Figure size 640x480 with 1 Axes>"
      ]
     },
     "execution_count": 126,
     "metadata": {},
     "output_type": "execute_result"
    },
    {
     "data": {
      "image/png": "[encoded data removed]",
      "text/plain": [
       "<Figure size 640x480 with 1 Axes>"
      ]
     },
     "metadata": {},
     "output_type": "display_data"
    }
   ],
   "source": [
    "sm.qqplot(result.resid, fit = True, line = '45')"
   ]
  },
  {
   "cell_type": "code",
   "execution_count": 128,
   "metadata": {},
   "outputs": [
    {
     "data": {
      "text/plain": [
       "<Axes: xlabel='fitted', ylabel='resid'>"
      ]
     },
     "execution_count": 128,
     "metadata": {},
     "output_type": "execute_result"
    },
    {
     "data": {
      "image/png": "[encoded data removed]",
      "text/plain": [
       "<Figure size 640x480 with 1 Axes>"
      ]
     },
     "metadata": {},
     "output_type": "display_data"
    }
   ],
   "source": [
    "eqvar = pd.DataFrame({'fitted': result.fittedvalues, 'resid' : result.resid })\n",
    "sns.residplot(x = 'fitted', y = 'resid', data = eqvar, line_kws = {'color':'red'}, lowess = True)"
   ]
  },
  {
   "cell_type": "markdown",
   "metadata": {},
   "source": [
    "### Case 1-3) Forward + R2"
   ]
  },
  {
   "cell_type": "code",
   "execution_count": 153,
   "metadata": {},
   "outputs": [
    {
     "name": "stdout",
     "output_type": "stream",
     "text": [
      "Character Variables (Dummies Generated, First Dummies Dropped): []\n",
      "Entered : 남자40s생활인구 \tR2 : 0.2842285252700758\n",
      "Entered : _30s_korean \tR2 : 0.30423311130629194\n",
      "Entered : 아파트_단지_수 \tR2 : 0.3498651164572828\n",
      "Entered : 길단위유동인구 \tR2 : 0.36038526291837925\n"
     ]
    },
    {
     "name": "stderr",
     "output_type": "stream",
     "text": [
      "/Users/hjuh/DSL/utils/feature_selection.py:144: FutureWarning: The behavior of DataFrame concatenation with empty or all-NA entries is deprecated. In a future version, this will no longer exclude empty or all-NA columns when determining the result dtypes. To retain the old behavior, exclude the relevant entries before the concat operation.\n",
      "  pvals = pd.concat([pvals, pd.DataFrame([[j, model.pvalues[j]]],\n",
      "/Users/hjuh/DSL/utils/feature_selection.py:144: FutureWarning: The behavior of DataFrame concatenation with empty or all-NA entries is deprecated. In a future version, this will no longer exclude empty or all-NA columns when determining the result dtypes. To retain the old behavior, exclude the relevant entries before the concat operation.\n",
      "  pvals = pd.concat([pvals, pd.DataFrame([[j, model.pvalues[j]]],\n",
      "/Users/hjuh/DSL/utils/feature_selection.py:144: FutureWarning: The behavior of DataFrame concatenation with empty or all-NA entries is deprecated. In a future version, this will no longer exclude empty or all-NA columns when determining the result dtypes. To retain the old behavior, exclude the relevant entries before the concat operation.\n",
      "  pvals = pd.concat([pvals, pd.DataFrame([[j, model.pvalues[j]]],\n",
      "/Users/hjuh/DSL/utils/feature_selection.py:144: FutureWarning: The behavior of DataFrame concatenation with empty or all-NA entries is deprecated. In a future version, this will no longer exclude empty or all-NA columns when determining the result dtypes. To retain the old behavior, exclude the relevant entries before the concat operation.\n",
      "  pvals = pd.concat([pvals, pd.DataFrame([[j, model.pvalues[j]]],\n",
      "/Users/hjuh/DSL/utils/feature_selection.py:144: FutureWarning: The behavior of DataFrame concatenation with empty or all-NA entries is deprecated. In a future version, this will no longer exclude empty or all-NA columns when determining the result dtypes. To retain the old behavior, exclude the relevant entries before the concat operation.\n",
      "  pvals = pd.concat([pvals, pd.DataFrame([[j, model.pvalues[j]]],\n"
     ]
    },
    {
     "name": "stdout",
     "output_type": "stream",
     "text": [
      "Entered : 초등학교_수 \tR2 : 0.3699589688168007\n",
      "Entered : 직장인구 \tR2 : 0.37873960337371104\n",
      "Entered : 지하철_하차 \tR2 : 0.38568451218427235\n",
      "Break : Significance Level\n",
      "                            OLS Regression Results                            \n",
      "==============================================================================\n",
      "Dep. Variable:                   이용건수   R-squared:                       0.386\n",
      "Model:                            OLS   Adj. R-squared:                  0.375\n",
      "Method:                 Least Squares   F-statistic:                     37.31\n",
      "Date:                Tue, 19 Aug 2025   Prob (F-statistic):           1.75e-40\n",
      "Time:                        22:23:49   Log-Likelihood:                -606.08\n",
      "No. Observations:                 424   AIC:                             1228.\n",
      "Df Residuals:                     416   BIC:                             1261.\n",
      "Df Model:                           7                                         \n",
      "Covariance Type:            nonrobust                                         \n",
      "===============================================================================\n",
      "                  coef    std err          t      P>|t|      [0.025      0.975]\n",
      "-------------------------------------------------------------------------------\n",
      "intercept       0.1797      0.057      3.148      0.002       0.067       0.292\n",
      "남자40s생활인구       0.4433      0.071      6.228      0.000       0.303       0.583\n",
      "_30s_korean     0.4910      0.090      5.451      0.000       0.314       0.668\n",
      "아파트_단지_수       -0.3688      0.072     -5.098      0.000      -0.511      -0.227\n",
      "길단위유동인구        -0.1829      0.067     -2.712      0.007      -0.316      -0.050\n",
      "초등학교_수          0.7257      0.273      2.662      0.008       0.190       1.262\n",
      "직장인구           -0.0668      0.024     -2.775      0.006      -0.114      -0.019\n",
      "지하철_하차          0.1150      0.053      2.169      0.031       0.011       0.219\n",
      "==============================================================================\n",
      "Omnibus:                      386.066   Durbin-Watson:                   1.532\n",
      "Prob(Omnibus):                  0.000   Jarque-Bera (JB):            20893.959\n",
      "Skew:                           3.582   Prob(JB):                         0.00\n",
      "Kurtosis:                      36.636   Cond. No.                         15.5\n",
      "==============================================================================\n",
      "\n",
      "Notes:\n",
      "[1] Standard Errors assume that the covariance matrix of the errors is correctly specified.\n",
      "AIC: 1228.155526320979\n",
      "BIC: 1260.5533939628347\n",
      "Final Variables: ['intercept', '남자40s생활인구', '_30s_korean', '아파트_단지_수', '길단위유동인구', '초등학교_수', '직장인구', '지하철_하차']\n"
     ]
    },
    {
     "name": "stderr",
     "output_type": "stream",
     "text": [
      "/Users/hjuh/DSL/utils/feature_selection.py:144: FutureWarning: The behavior of DataFrame concatenation with empty or all-NA entries is deprecated. In a future version, this will no longer exclude empty or all-NA columns when determining the result dtypes. To retain the old behavior, exclude the relevant entries before the concat operation.\n",
      "  pvals = pd.concat([pvals, pd.DataFrame([[j, model.pvalues[j]]],\n",
      "/Users/hjuh/DSL/utils/feature_selection.py:144: FutureWarning: The behavior of DataFrame concatenation with empty or all-NA entries is deprecated. In a future version, this will no longer exclude empty or all-NA columns when determining the result dtypes. To retain the old behavior, exclude the relevant entries before the concat operation.\n",
      "  pvals = pd.concat([pvals, pd.DataFrame([[j, model.pvalues[j]]],\n",
      "/Users/hjuh/DSL/utils/feature_selection.py:144: FutureWarning: The behavior of DataFrame concatenation with empty or all-NA entries is deprecated. In a future version, this will no longer exclude empty or all-NA columns when determining the result dtypes. To retain the old behavior, exclude the relevant entries before the concat operation.\n",
      "  pvals = pd.concat([pvals, pd.DataFrame([[j, model.pvalues[j]]],\n"
     ]
    },
    {
     "data": {
      "text/plain": [
       "['intercept',\n",
       " '남자40s생활인구',\n",
       " '_30s_korean',\n",
       " '아파트_단지_수',\n",
       " '길단위유동인구',\n",
       " '초등학교_수',\n",
       " '직장인구',\n",
       " '지하철_하차']"
      ]
     },
     "execution_count": 153,
     "metadata": {},
     "output_type": "execute_result"
    }
   ],
   "source": [
    "fsel.forwardSelection(X, y, model_type = 'linear', elimination_criteria = 'r2')"
   ]
  },
  {
   "cell_type": "markdown",
   "metadata": {},
   "source": [
    "### Case 1-4) Forward + Adjusted R2"
   ]
  },
  {
   "cell_type": "code",
   "execution_count": 130,
   "metadata": {},
   "outputs": [
    {
     "name": "stdout",
     "output_type": "stream",
     "text": [
      "Character Variables (Dummies Generated, First Dummies Dropped): []\n",
      "Entered : 남자40s생활인구 \tAdjR2 : 0.28253238433469674\n",
      "Entered : _30s_korean \tAdjR2 : 0.30092780542176123\n",
      "Entered : 아파트_단지_수 \tAdjR2 : 0.34522129586054917\n",
      "Entered : 길단위유동인구 \tAdjR2 : 0.35427915564313706\n"
     ]
    },
    {
     "name": "stderr",
     "output_type": "stream",
     "text": [
      "/Users/hjuh/DSL/utils/feature_selection.py:144: FutureWarning: The behavior of DataFrame concatenation with empty or all-NA entries is deprecated. In a future version, this will no longer exclude empty or all-NA columns when determining the result dtypes. To retain the old behavior, exclude the relevant entries before the concat operation.\n",
      "  pvals = pd.concat([pvals, pd.DataFrame([[j, model.pvalues[j]]],\n",
      "/Users/hjuh/DSL/utils/feature_selection.py:144: FutureWarning: The behavior of DataFrame concatenation with empty or all-NA entries is deprecated. In a future version, this will no longer exclude empty or all-NA columns when determining the result dtypes. To retain the old behavior, exclude the relevant entries before the concat operation.\n",
      "  pvals = pd.concat([pvals, pd.DataFrame([[j, model.pvalues[j]]],\n",
      "/Users/hjuh/DSL/utils/feature_selection.py:144: FutureWarning: The behavior of DataFrame concatenation with empty or all-NA entries is deprecated. In a future version, this will no longer exclude empty or all-NA columns when determining the result dtypes. To retain the old behavior, exclude the relevant entries before the concat operation.\n",
      "  pvals = pd.concat([pvals, pd.DataFrame([[j, model.pvalues[j]]],\n",
      "/Users/hjuh/DSL/utils/feature_selection.py:144: FutureWarning: The behavior of DataFrame concatenation with empty or all-NA entries is deprecated. In a future version, this will no longer exclude empty or all-NA columns when determining the result dtypes. To retain the old behavior, exclude the relevant entries before the concat operation.\n",
      "  pvals = pd.concat([pvals, pd.DataFrame([[j, model.pvalues[j]]],\n",
      "/Users/hjuh/DSL/utils/feature_selection.py:144: FutureWarning: The behavior of DataFrame concatenation with empty or all-NA entries is deprecated. In a future version, this will no longer exclude empty or all-NA columns when determining the result dtypes. To retain the old behavior, exclude the relevant entries before the concat operation.\n",
      "  pvals = pd.concat([pvals, pd.DataFrame([[j, model.pvalues[j]]],\n"
     ]
    },
    {
     "name": "stdout",
     "output_type": "stream",
     "text": [
      "Entered : 초등학교_수 \tAdjR2 : 0.3624225928457099\n",
      "Entered : 직장인구 \tAdjR2 : 0.36980060486110267\n",
      "Entered : 지하철_하차 \tAdjR2 : 0.3753474727258346\n",
      "Break : Significance Level\n",
      "                            OLS Regression Results                            \n",
      "==============================================================================\n",
      "Dep. Variable:                   이용건수   R-squared:                       0.386\n",
      "Model:                            OLS   Adj. R-squared:                  0.375\n",
      "Method:                 Least Squares   F-statistic:                     37.31\n",
      "Date:                Tue, 19 Aug 2025   Prob (F-statistic):           1.75e-40\n",
      "Time:                        20:53:37   Log-Likelihood:                -606.08\n",
      "No. Observations:                 424   AIC:                             1228.\n",
      "Df Residuals:                     416   BIC:                             1261.\n",
      "Df Model:                           7                                         \n",
      "Covariance Type:            nonrobust                                         \n",
      "===============================================================================\n",
      "                  coef    std err          t      P>|t|      [0.025      0.975]\n",
      "-------------------------------------------------------------------------------\n",
      "intercept       0.1797      0.057      3.148      0.002       0.067       0.292\n",
      "남자40s생활인구       0.4433      0.071      6.228      0.000       0.303       0.583\n",
      "_30s_korean     0.4910      0.090      5.451      0.000       0.314       0.668\n",
      "아파트_단지_수       -0.3688      0.072     -5.098      0.000      -0.511      -0.227\n",
      "길단위유동인구        -0.1829      0.067     -2.712      0.007      -0.316      -0.050\n",
      "초등학교_수          0.7257      0.273      2.662      0.008       0.190       1.262\n",
      "직장인구           -0.0668      0.024     -2.775      0.006      -0.114      -0.019\n",
      "지하철_하차          0.1150      0.053      2.169      0.031       0.011       0.219\n",
      "==============================================================================\n",
      "Omnibus:                      386.066   Durbin-Watson:                   1.532\n",
      "Prob(Omnibus):                  0.000   Jarque-Bera (JB):            20893.959\n",
      "Skew:                           3.582   Prob(JB):                         0.00\n",
      "Kurtosis:                      36.636   Cond. No.                         15.5\n",
      "==============================================================================\n",
      "\n",
      "Notes:\n",
      "[1] Standard Errors assume that the covariance matrix of the errors is correctly specified.\n",
      "AIC: 1228.155526320979\n",
      "BIC: 1260.5533939628347\n",
      "Final Variables: ['intercept', '남자40s생활인구', '_30s_korean', '아파트_단지_수', '길단위유동인구', '초등학교_수', '직장인구', '지하철_하차']\n"
     ]
    },
    {
     "name": "stderr",
     "output_type": "stream",
     "text": [
      "/Users/hjuh/DSL/utils/feature_selection.py:144: FutureWarning: The behavior of DataFrame concatenation with empty or all-NA entries is deprecated. In a future version, this will no longer exclude empty or all-NA columns when determining the result dtypes. To retain the old behavior, exclude the relevant entries before the concat operation.\n",
      "  pvals = pd.concat([pvals, pd.DataFrame([[j, model.pvalues[j]]],\n",
      "/Users/hjuh/DSL/utils/feature_selection.py:144: FutureWarning: The behavior of DataFrame concatenation with empty or all-NA entries is deprecated. In a future version, this will no longer exclude empty or all-NA columns when determining the result dtypes. To retain the old behavior, exclude the relevant entries before the concat operation.\n",
      "  pvals = pd.concat([pvals, pd.DataFrame([[j, model.pvalues[j]]],\n",
      "/Users/hjuh/DSL/utils/feature_selection.py:144: FutureWarning: The behavior of DataFrame concatenation with empty or all-NA entries is deprecated. In a future version, this will no longer exclude empty or all-NA columns when determining the result dtypes. To retain the old behavior, exclude the relevant entries before the concat operation.\n",
      "  pvals = pd.concat([pvals, pd.DataFrame([[j, model.pvalues[j]]],\n"
     ]
    },
    {
     "data": {
      "text/plain": [
       "['intercept',\n",
       " '남자40s생활인구',\n",
       " '_30s_korean',\n",
       " '아파트_단지_수',\n",
       " '길단위유동인구',\n",
       " '초등학교_수',\n",
       " '직장인구',\n",
       " '지하철_하차']"
      ]
     },
     "execution_count": 130,
     "metadata": {},
     "output_type": "execute_result"
    }
   ],
   "source": [
    "fsel.forwardSelection(X, y, model_type = 'linear', elimination_criteria = 'adjr2')"
   ]
  },
  {
   "cell_type": "markdown",
   "metadata": {},
   "source": [
    "### Case 2-1) Backward + AIC"
   ]
  },
  {
   "cell_type": "code",
   "execution_count": 132,
   "metadata": {},
   "outputs": [
    {
     "name": "stdout",
     "output_type": "stream",
     "text": [
      "Character Variables (Dummies Generated, First Dummies Dropped): []\n",
      "Eliminated : 일반_병원_수\n",
      "Eliminated : 총병원_수\n",
      "Eliminated : 아파트_평균_시가\n",
      "Eliminated : _90s_foreigner\n",
      "Eliminated : 숙박_시설_수\n",
      "Eliminated : _80s_korean\n",
      "Eliminated : 상권_수\n",
      "Eliminated : 슈퍼마켓_수\n",
      "Eliminated : 중학교_수\n",
      "Eliminated : 초중고등학교_수\n",
      "Eliminated : 극장_수\n",
      "Eliminated : _80s_foreigner\n",
      "Eliminated : _10s_foreigner\n",
      "Eliminated : 관공서_수\n",
      "Eliminated : _40s_korean\n",
      "Eliminated : 종합병원_수\n",
      "Eliminated : 대중교통_하차\n",
      "Eliminated : 지하철_승차\n",
      "Eliminated : 여자50s생활인구\n",
      "Eliminated : 버스_하차\n",
      "Eliminated : 남자60s생활인구\n",
      "Eliminated : 남자50s생활인구\n",
      "Eliminated : intercept\n",
      "Eliminated : 약국_수\n",
      "Eliminated : 여자70s이상생활인구\n",
      "Eliminated : 남자40s생활인구\n",
      "Eliminated : 여자10s생활인구\n",
      "Eliminated : 집객시설_수\n",
      "Eliminated : 여자0s생활인구\n",
      "Eliminated : 남자70s이상생활인구\n",
      "Eliminated : 여자30s생활인구\n",
      "Eliminated : 대학교_수\n",
      "Eliminated : 고등학교_수\n",
      "Eliminated : _100s_foreigner\n",
      "Eliminated : _90s_korean\n",
      "Eliminated : _0s_foreigner\n",
      "Eliminated : _100s_korean\n",
      "Regained :  _100s_korean\n",
      "                                 OLS Regression Results                                \n",
      "=======================================================================================\n",
      "Dep. Variable:                   이용건수   R-squared (uncentered):                   0.535\n",
      "Model:                            OLS   Adj. R-squared (uncentered):              0.497\n",
      "Method:                 Least Squares   F-statistic:                              14.10\n",
      "Date:                Tue, 19 Aug 2025   Prob (F-statistic):                    1.93e-47\n",
      "Time:                        20:53:43   Log-Likelihood:                         -560.24\n",
      "No. Observations:                 424   AIC:                                      1184.\n",
      "Df Residuals:                     392   BIC:                                      1314.\n",
      "Df Model:                          32                                                  \n",
      "Covariance Type:            nonrobust                                                  \n",
      "==================================================================================\n",
      "                     coef    std err          t      P>|t|      [0.025      0.975]\n",
      "----------------------------------------------------------------------------------\n",
      "은행_수               0.0990      0.049      2.038      0.042       0.004       0.195\n",
      "유치원_수             -0.1115      0.068     -1.641      0.102      -0.245       0.022\n",
      "초등학교_수             0.4894      0.263      1.864      0.063      -0.027       1.006\n",
      "백화점_수             -0.4287      0.295     -1.451      0.147      -1.009       0.152\n",
      "_20s_foreigner     0.0887      0.037      2.408      0.017       0.016       0.161\n",
      "_30s_foreigner    -0.4579      0.121     -3.771      0.000      -0.697      -0.219\n",
      "_40s_foreigner     0.2867      0.096      2.989      0.003       0.098       0.475\n",
      "_50s_foreigner    -0.2440      0.091     -2.677      0.008      -0.423      -0.065\n",
      "_60s_foreigner     0.2629      0.094      2.795      0.005       0.078       0.448\n",
      "_70s_foreigner    -0.0847      0.054     -1.560      0.120      -0.192       0.022\n",
      "_0s_korean        -0.5283      0.180     -2.933      0.004      -0.882      -0.174\n",
      "_10s_korean        0.6692      0.239      2.800      0.005       0.199       1.139\n",
      "_20s_korean        0.4435      0.219      2.021      0.044       0.012       0.875\n",
      "_30s_korean        0.7204      0.281      2.567      0.011       0.169       1.272\n",
      "_50s_korean       -1.1765      0.378     -3.110      0.002      -1.920      -0.433\n",
      "_60s_korean        1.9541      0.413      4.728      0.000       1.142       2.767\n",
      "_70s_korean       -1.3419      0.244     -5.503      0.000      -1.821      -0.862\n",
      "_100s_korean      -0.0961      0.068     -1.412      0.159      -0.230       0.038\n",
      "총생활인구수             5.1233      1.330      3.852      0.000       2.508       7.738\n",
      "대중교통_승차           -2.6963      0.546     -4.937      0.000      -3.770      -1.623\n",
      "버스_승차              0.9137      0.201      4.541      0.000       0.518       1.309\n",
      "지하철_하차             2.2904      0.440      5.202      0.000       1.425       3.156\n",
      "남자0s생활인구          -0.3324      0.159     -2.086      0.038      -0.646      -0.019\n",
      "남자10s생활인구         -0.6128      0.172     -3.563      0.000      -0.951      -0.275\n",
      "남자20s생활인구         -0.5491      0.238     -2.306      0.022      -1.017      -0.081\n",
      "남자30s생활인구         -0.9910      0.396     -2.505      0.013      -1.769      -0.213\n",
      "여자20s생활인구         -0.6958      0.256     -2.718      0.007      -1.199      -0.193\n",
      "여자40s생활인구         -0.8214      0.570     -1.442      0.150      -1.941       0.298\n",
      "여자60s생활인구         -1.4591      0.412     -3.540      0.000      -2.269      -0.649\n",
      "아파트_단지_수          -0.3172      0.088     -3.617      0.000      -0.490      -0.145\n",
      "길단위유동인구           -0.1708      0.073     -2.346      0.019      -0.314      -0.028\n",
      "직장인구              -0.0726      0.025     -2.908      0.004      -0.122      -0.024\n",
      "==============================================================================\n",
      "Omnibus:                      311.074   Durbin-Watson:                   1.686\n",
      "Prob(Omnibus):                  0.000   Jarque-Bera (JB):            10379.041\n",
      "Skew:                           2.685   Prob(JB):                         0.00\n",
      "Kurtosis:                      26.636   Cond. No.                         239.\n",
      "==============================================================================\n",
      "\n",
      "Notes:\n",
      "[1] R² is computed without centering (uncentered) since the model does not contain a constant.\n",
      "[2] Standard Errors assume that the covariance matrix of the errors is correctly specified.\n",
      "AIC: 1184.4708283646007\n",
      "BIC: 1314.0622989320234\n",
      "Final Variables: ['은행_수', '유치원_수', '초등학교_수', '백화점_수', '_20s_foreigner', '_30s_foreigner', '_40s_foreigner', '_50s_foreigner', '_60s_foreigner', '_70s_foreigner', '_0s_korean', '_10s_korean', '_20s_korean', '_30s_korean', '_50s_korean', '_60s_korean', '_70s_korean', '_100s_korean', '총생활인구수', '대중교통_승차', '버스_승차', '지하철_하차', '남자0s생활인구', '남자10s생활인구', '남자20s생활인구', '남자30s생활인구', '여자20s생활인구', '여자40s생활인구', '여자60s생활인구', '아파트_단지_수', '길단위유동인구', '직장인구']\n"
     ]
    },
    {
     "data": {
      "text/plain": [
       "['은행_수',\n",
       " '유치원_수',\n",
       " '초등학교_수',\n",
       " '백화점_수',\n",
       " '_20s_foreigner',\n",
       " '_30s_foreigner',\n",
       " '_40s_foreigner',\n",
       " '_50s_foreigner',\n",
       " '_60s_foreigner',\n",
       " '_70s_foreigner',\n",
       " '_0s_korean',\n",
       " '_10s_korean',\n",
       " '_20s_korean',\n",
       " '_30s_korean',\n",
       " '_50s_korean',\n",
       " '_60s_korean',\n",
       " '_70s_korean',\n",
       " '_100s_korean',\n",
       " '총생활인구수',\n",
       " '대중교통_승차',\n",
       " '버스_승차',\n",
       " '지하철_하차',\n",
       " '남자0s생활인구',\n",
       " '남자10s생활인구',\n",
       " '남자20s생활인구',\n",
       " '남자30s생활인구',\n",
       " '여자20s생활인구',\n",
       " '여자40s생활인구',\n",
       " '여자60s생활인구',\n",
       " '아파트_단지_수',\n",
       " '길단위유동인구',\n",
       " '직장인구']"
      ]
     },
     "execution_count": 132,
     "metadata": {},
     "output_type": "execute_result"
    }
   ],
   "source": [
    "fsel.backwardSelection(X, y, model_type = 'linear', elimination_criteria = 'aic')"
   ]
  },
  {
   "cell_type": "markdown",
   "metadata": {},
   "source": [
    "### Case 2-2) Backward + BIC"
   ]
  },
  {
   "cell_type": "code",
   "execution_count": 134,
   "metadata": {},
   "outputs": [
    {
     "name": "stdout",
     "output_type": "stream",
     "text": [
      "Character Variables (Dummies Generated, First Dummies Dropped): []\n",
      "Eliminated : 일반_병원_수\n",
      "Eliminated : 총병원_수\n",
      "Eliminated : 아파트_평균_시가\n",
      "Eliminated : _90s_foreigner\n",
      "Eliminated : 숙박_시설_수\n",
      "Eliminated : _80s_korean\n",
      "Eliminated : 상권_수\n",
      "Eliminated : 슈퍼마켓_수\n",
      "Eliminated : 중학교_수\n",
      "Eliminated : 초중고등학교_수\n",
      "Eliminated : 극장_수\n",
      "Eliminated : _80s_foreigner\n",
      "Eliminated : _10s_foreigner\n",
      "Eliminated : 관공서_수\n",
      "Eliminated : _40s_korean\n",
      "Eliminated : 종합병원_수\n",
      "Eliminated : 대중교통_하차\n",
      "Eliminated : 지하철_승차\n",
      "Eliminated : 여자50s생활인구\n",
      "Eliminated : 버스_하차\n",
      "Eliminated : 남자60s생활인구\n",
      "Eliminated : 남자50s생활인구\n",
      "Eliminated : intercept\n",
      "Eliminated : 약국_수\n",
      "Eliminated : 여자70s이상생활인구\n",
      "Eliminated : 남자40s생활인구\n",
      "Eliminated : 여자10s생활인구\n",
      "Eliminated : 집객시설_수\n",
      "Eliminated : 여자0s생활인구\n",
      "Eliminated : 남자70s이상생활인구\n",
      "Eliminated : 여자30s생활인구\n",
      "Eliminated : 대학교_수\n",
      "Eliminated : 고등학교_수\n",
      "Eliminated : _100s_foreigner\n",
      "Eliminated : _90s_korean\n",
      "Eliminated : _0s_foreigner\n",
      "Eliminated : _100s_korean\n",
      "Eliminated : 여자40s생활인구\n",
      "Eliminated : 백화점_수\n",
      "Eliminated : 은행_수\n",
      "Eliminated : 유치원_수\n",
      "Eliminated : _70s_foreigner\n",
      "Eliminated : 남자20s생활인구\n",
      "Eliminated : _20s_korean\n",
      "Eliminated : 남자0s생활인구\n",
      "Eliminated : 남자30s생활인구\n",
      "                                 OLS Regression Results                                \n",
      "=======================================================================================\n",
      "Dep. Variable:                   이용건수   R-squared (uncentered):                   0.508\n",
      "Model:                            OLS   Adj. R-squared (uncentered):              0.481\n",
      "Method:                 Least Squares   F-statistic:                              18.87\n",
      "Date:                Tue, 19 Aug 2025   Prob (F-statistic):                    5.58e-49\n",
      "Time:                        20:53:49   Log-Likelihood:                         -572.23\n",
      "No. Observations:                 424   AIC:                                      1188.\n",
      "Df Residuals:                     402   BIC:                                      1278.\n",
      "Df Model:                          22                                                  \n",
      "Covariance Type:            nonrobust                                                  \n",
      "==================================================================================\n",
      "                     coef    std err          t      P>|t|      [0.025      0.975]\n",
      "----------------------------------------------------------------------------------\n",
      "초등학교_수             0.6557      0.260      2.526      0.012       0.145       1.166\n",
      "_20s_foreigner     0.1084      0.034      3.179      0.002       0.041       0.175\n",
      "_30s_foreigner    -0.4835      0.117     -4.117      0.000      -0.714      -0.253\n",
      "_40s_foreigner     0.2492      0.086      2.907      0.004       0.081       0.418\n",
      "_50s_foreigner    -0.2350      0.087     -2.688      0.007      -0.407      -0.063\n",
      "_60s_foreigner     0.2378      0.087      2.734      0.007       0.067       0.409\n",
      "_0s_korean        -0.7096      0.143     -4.978      0.000      -0.990      -0.429\n",
      "_10s_korean        0.8039      0.206      3.911      0.000       0.400       1.208\n",
      "_30s_korean        0.7864      0.143      5.494      0.000       0.505       1.068\n",
      "_50s_korean       -0.8125      0.340     -2.390      0.017      -1.481      -0.144\n",
      "_60s_korean        1.7307      0.352      4.922      0.000       1.039       2.422\n",
      "_70s_korean       -1.2701      0.227     -5.585      0.000      -1.717      -0.823\n",
      "총생활인구수             1.5976      0.320      4.986      0.000       0.968       2.227\n",
      "대중교통_승차           -1.3910      0.404     -3.440      0.001      -2.186      -0.596\n",
      "버스_승차              0.4781      0.155      3.094      0.002       0.174       0.782\n",
      "지하철_하차             1.2451      0.319      3.903      0.000       0.618       1.872\n",
      "남자10s생활인구         -0.4394      0.128     -3.424      0.001      -0.692      -0.187\n",
      "여자20s생활인구         -0.4003      0.178     -2.243      0.025      -0.751      -0.050\n",
      "여자60s생활인구         -0.5692      0.246     -2.318      0.021      -1.052      -0.086\n",
      "아파트_단지_수          -0.3897      0.081     -4.822      0.000      -0.549      -0.231\n",
      "길단위유동인구           -0.1501      0.071     -2.102      0.036      -0.290      -0.010\n",
      "직장인구              -0.0674      0.024     -2.859      0.004      -0.114      -0.021\n",
      "==============================================================================\n",
      "Omnibus:                      333.563   Durbin-Watson:                   1.701\n",
      "Prob(Omnibus):                  0.000   Jarque-Bera (JB):            12627.550\n",
      "Skew:                           2.947   Prob(JB):                         0.00\n",
      "Kurtosis:                      29.077   Cond. No.                         83.3\n",
      "==============================================================================\n",
      "\n",
      "Notes:\n",
      "[1] R² is computed without centering (uncentered) since the model does not contain a constant.\n",
      "[2] Standard Errors assume that the covariance matrix of the errors is correctly specified.\n",
      "AIC: 1188.4546424024898\n",
      "BIC: 1277.5487784175928\n",
      "Final Variables: ['초등학교_수', '_20s_foreigner', '_30s_foreigner', '_40s_foreigner', '_50s_foreigner', '_60s_foreigner', '_0s_korean', '_10s_korean', '_30s_korean', '_50s_korean', '_60s_korean', '_70s_korean', '총생활인구수', '대중교통_승차', '버스_승차', '지하철_하차', '남자10s생활인구', '여자20s생활인구', '여자60s생활인구', '아파트_단지_수', '길단위유동인구', '직장인구']\n"
     ]
    },
    {
     "data": {
      "text/plain": [
       "['초등학교_수',\n",
       " '_20s_foreigner',\n",
       " '_30s_foreigner',\n",
       " '_40s_foreigner',\n",
       " '_50s_foreigner',\n",
       " '_60s_foreigner',\n",
       " '_0s_korean',\n",
       " '_10s_korean',\n",
       " '_30s_korean',\n",
       " '_50s_korean',\n",
       " '_60s_korean',\n",
       " '_70s_korean',\n",
       " '총생활인구수',\n",
       " '대중교통_승차',\n",
       " '버스_승차',\n",
       " '지하철_하차',\n",
       " '남자10s생활인구',\n",
       " '여자20s생활인구',\n",
       " '여자60s생활인구',\n",
       " '아파트_단지_수',\n",
       " '길단위유동인구',\n",
       " '직장인구']"
      ]
     },
     "execution_count": 134,
     "metadata": {},
     "output_type": "execute_result"
    }
   ],
   "source": [
    "fsel.backwardSelection(X, y, model_type = 'linear', elimination_criteria = 'bic')"
   ]
  },
  {
   "cell_type": "markdown",
   "metadata": {},
   "source": [
    "### Case 2-3) Backward + R2"
   ]
  },
  {
   "cell_type": "code",
   "execution_count": 136,
   "metadata": {},
   "outputs": [
    {
     "name": "stdout",
     "output_type": "stream",
     "text": [
      "Character Variables (Dummies Generated, First Dummies Dropped): []\n",
      "Eliminated : 일반_병원_수\n",
      "Eliminated : 총병원_수\n",
      "Regained :  총병원_수\n",
      "                            OLS Regression Results                            \n",
      "==============================================================================\n",
      "Dep. Variable:                   이용건수   R-squared:                       0.530\n",
      "Model:                            OLS   Adj. R-squared:                  0.448\n",
      "Method:                 Least Squares   F-statistic:                     6.456\n",
      "Date:                Tue, 19 Aug 2025   Prob (F-statistic):           1.93e-31\n",
      "Time:                        20:53:54   Log-Likelihood:                -549.09\n",
      "No. Observations:                 424   AIC:                             1226.\n",
      "Df Residuals:                     360   BIC:                             1485.\n",
      "Df Model:                          63                                         \n",
      "Covariance Type:            nonrobust                                         \n",
      "===================================================================================\n",
      "                      coef    std err          t      P>|t|      [0.025      0.975]\n",
      "-----------------------------------------------------------------------------------\n",
      "intercept        7.069e+05   1.06e+06      0.665      0.506   -1.38e+06     2.8e+06\n",
      "상권_수               -0.0334      0.105     -0.317      0.751      -0.240       0.174\n",
      "집객시설_수             -0.2224      0.236     -0.943      0.346      -0.686       0.241\n",
      "관공서_수              -0.0341      0.063     -0.543      0.588      -0.158       0.089\n",
      "은행_수                0.1595      0.082      1.940      0.053      -0.002       0.321\n",
      "총병원_수              -0.0005      0.072     -0.006      0.995      -0.142       0.141\n",
      "종합병원_수              0.1773      0.232      0.764      0.445      -0.279       0.633\n",
      "약국_수                0.1296      0.162      0.798      0.425      -0.190       0.449\n",
      "유치원_수              -0.0874      0.072     -1.208      0.228      -0.230       0.055\n",
      "초중고등학교_수            0.1262      0.154      0.820      0.413      -0.176       0.429\n",
      "초등학교_수              0.2484      0.269      0.923      0.357      -0.281       0.778\n",
      "중학교_수              -0.2191      0.479     -0.457      0.648      -1.162       0.724\n",
      "고등학교_수              0.2263      0.326      0.695      0.488      -0.414       0.867\n",
      "대학교_수              -0.0549      0.056     -0.986      0.325      -0.164       0.055\n",
      "백화점_수              -0.4340      0.357     -1.214      0.225      -1.137       0.269\n",
      "슈퍼마켓_수             -0.0206      0.051     -0.402      0.688      -0.122       0.080\n",
      "극장_수                0.0345      0.112      0.309      0.757      -0.185       0.254\n",
      "숙박_시설_수             0.0059      0.028      0.212      0.832      -0.048       0.060\n",
      "_0s_foreigner       0.1364      0.098      1.390      0.165      -0.057       0.329\n",
      "_10s_foreigner      0.0600      0.091      0.658      0.511      -0.119       0.239\n",
      "_20s_foreigner      0.0494      0.052      0.953      0.341      -0.053       0.151\n",
      "_30s_foreigner     -0.4170      0.142     -2.940      0.003      -0.696      -0.138\n",
      "_40s_foreigner      0.1362      0.156      0.875      0.382      -0.170       0.442\n",
      "_50s_foreigner     -0.2254      0.110     -2.053      0.041      -0.441      -0.009\n",
      "_60s_foreigner      0.2700      0.105      2.583      0.010       0.064       0.476\n",
      "_70s_foreigner     -0.1686      0.076     -2.226      0.027      -0.318      -0.020\n",
      "_80s_foreigner      0.0360      0.060      0.597      0.551      -0.083       0.154\n",
      "_90s_foreigner      0.0121      0.076      0.161      0.872      -0.136       0.161\n",
      "_100s_foreigner     0.2610      0.181      1.440      0.151      -0.096       0.617\n",
      "_0s_korean         -0.4157      0.226     -1.836      0.067      -0.861       0.030\n",
      "_10s_korean         1.0731      0.402      2.673      0.008       0.283       1.863\n",
      "_20s_korean         0.2748      0.271      1.015      0.311      -0.258       0.807\n",
      "_30s_korean         1.1993      0.467      2.566      0.011       0.280       2.118\n",
      "_40s_korean        -0.3750      0.650     -0.577      0.565      -1.654       0.904\n",
      "_50s_korean        -1.8186      0.578     -3.145      0.002      -2.956      -0.681\n",
      "_60s_korean         1.8452      0.551      3.352      0.001       0.763       2.928\n",
      "_70s_korean        -1.0370      0.410     -2.526      0.012      -1.844      -0.230\n",
      "_80s_korean         0.0588      0.309      0.190      0.849      -0.549       0.667\n",
      "_90s_korean         0.1139      0.163      0.701      0.484      -0.206       0.433\n",
      "_100s_korean       -0.1060      0.076     -1.394      0.164      -0.255       0.044\n",
      "총생활인구수           1.406e+07   2.12e+07      0.665      0.506   -2.75e+07    5.57e+07\n",
      "대중교통_승차         -6.073e+04   9.13e+04     -0.665      0.506    -2.4e+05    1.19e+05\n",
      "지하철_승차            5.08e+04   7.64e+04      0.665      0.507   -9.94e+04    2.01e+05\n",
      "버스_승차            2.181e+04   3.28e+04      0.665      0.506   -4.27e+04    8.63e+04\n",
      "대중교통_하차         -3.747e+04   5.63e+04     -0.665      0.507   -1.48e+05    7.33e+04\n",
      "지하철_하차           3.071e+04   4.62e+04      0.665      0.506   -6.01e+04    1.22e+05\n",
      "버스_하차            1.296e+04   1.95e+04      0.665      0.507   -2.54e+04    5.13e+04\n",
      "남자0s생활인구         -5.85e+05    8.8e+05     -0.665      0.506   -2.31e+06    1.15e+06\n",
      "남자10s생활인구       -7.893e+05   1.19e+06     -0.665      0.506   -3.12e+06    1.54e+06\n",
      "남자20s생활인구        -1.18e+06   1.77e+06     -0.665      0.506   -4.67e+06    2.31e+06\n",
      "남자30s생활인구       -1.319e+06   1.98e+06     -0.665      0.506   -5.22e+06    2.58e+06\n",
      "남자40s생활인구       -1.247e+06   1.87e+06     -0.665      0.506   -4.93e+06    2.44e+06\n",
      "남자50s생활인구       -9.963e+05    1.5e+06     -0.665      0.506   -3.94e+06    1.95e+06\n",
      "남자60s생활인구       -5.908e+05   8.88e+05     -0.665      0.506   -2.34e+06    1.16e+06\n",
      "남자70s이상생활인구      -5.29e+05   7.95e+05     -0.665      0.506   -2.09e+06    1.04e+06\n",
      "여자0s생활인구        -5.333e+05   8.02e+05     -0.665      0.506   -2.11e+06    1.04e+06\n",
      "여자10s생활인구       -7.505e+05   1.13e+06     -0.665      0.506   -2.97e+06    1.47e+06\n",
      "여자20s생활인구       -1.538e+06   2.31e+06     -0.665      0.506   -6.09e+06    3.01e+06\n",
      "여자30s생활인구       -1.378e+06   2.07e+06     -0.665      0.506   -5.45e+06     2.7e+06\n",
      "여자40s생활인구       -1.303e+06   1.96e+06     -0.665      0.506   -5.16e+06    2.55e+06\n",
      "여자50s생활인구       -9.934e+05   1.49e+06     -0.665      0.506   -3.93e+06    1.94e+06\n",
      "여자60s생활인구       -7.864e+05   1.18e+06     -0.665      0.506   -3.11e+06    1.54e+06\n",
      "여자70s이상생활인구     -8.288e+05   1.25e+06     -0.665      0.506   -3.28e+06    1.62e+06\n",
      "아파트_단지_수           -0.2052      0.105     -1.960      0.051      -0.411       0.001\n",
      "아파트_평균_시가          -0.0070      0.049     -0.143      0.886      -0.103       0.089\n",
      "길단위유동인구            -0.1404      0.081     -1.732      0.084      -0.300       0.019\n",
      "직장인구               -0.0729      0.027     -2.672      0.008      -0.127      -0.019\n",
      "==============================================================================\n",
      "Omnibus:                      331.774   Durbin-Watson:                   1.715\n",
      "Prob(Omnibus):                  0.000   Jarque-Bera (JB):            12488.444\n",
      "Skew:                           2.924   Prob(JB):                         0.00\n",
      "Kurtosis:                      28.936   Cond. No.                     1.26e+16\n",
      "==============================================================================\n",
      "\n",
      "Notes:\n",
      "[1] Standard Errors assume that the covariance matrix of the errors is correctly specified.\n",
      "[2] The smallest eigenvalue is 1.67e-28. This might indicate that there are\n",
      "strong multicollinearity problems or that the design matrix is singular.\n",
      "AIC: 1226.1825618168857\n",
      "BIC: 1485.365502951731\n",
      "Final Variables: ['intercept', '상권_수', '집객시설_수', '관공서_수', '은행_수', '총병원_수', '종합병원_수', '약국_수', '유치원_수', '초중고등학교_수', '초등학교_수', '중학교_수', '고등학교_수', '대학교_수', '백화점_수', '슈퍼마켓_수', '극장_수', '숙박_시설_수', '_0s_foreigner', '_10s_foreigner', '_20s_foreigner', '_30s_foreigner', '_40s_foreigner', '_50s_foreigner', '_60s_foreigner', '_70s_foreigner', '_80s_foreigner', '_90s_foreigner', '_100s_foreigner', '_0s_korean', '_10s_korean', '_20s_korean', '_30s_korean', '_40s_korean', '_50s_korean', '_60s_korean', '_70s_korean', '_80s_korean', '_90s_korean', '_100s_korean', '총생활인구수', '대중교통_승차', '지하철_승차', '버스_승차', '대중교통_하차', '지하철_하차', '버스_하차', '남자0s생활인구', '남자10s생활인구', '남자20s생활인구', '남자30s생활인구', '남자40s생활인구', '남자50s생활인구', '남자60s생활인구', '남자70s이상생활인구', '여자0s생활인구', '여자10s생활인구', '여자20s생활인구', '여자30s생활인구', '여자40s생활인구', '여자50s생활인구', '여자60s생활인구', '여자70s이상생활인구', '아파트_단지_수', '아파트_평균_시가', '길단위유동인구', '직장인구']\n"
     ]
    },
    {
     "data": {
      "text/plain": [
       "['intercept',\n",
       " '상권_수',\n",
       " '집객시설_수',\n",
       " '관공서_수',\n",
       " '은행_수',\n",
       " '총병원_수',\n",
       " '종합병원_수',\n",
       " '약국_수',\n",
       " '유치원_수',\n",
       " '초중고등학교_수',\n",
       " '초등학교_수',\n",
       " '중학교_수',\n",
       " '고등학교_수',\n",
       " '대학교_수',\n",
       " '백화점_수',\n",
       " '슈퍼마켓_수',\n",
       " '극장_수',\n",
       " '숙박_시설_수',\n",
       " '_0s_foreigner',\n",
       " '_10s_foreigner',\n",
       " '_20s_foreigner',\n",
       " '_30s_foreigner',\n",
       " '_40s_foreigner',\n",
       " '_50s_foreigner',\n",
       " '_60s_foreigner',\n",
       " '_70s_foreigner',\n",
       " '_80s_foreigner',\n",
       " '_90s_foreigner',\n",
       " '_100s_foreigner',\n",
       " '_0s_korean',\n",
       " '_10s_korean',\n",
       " '_20s_korean',\n",
       " '_30s_korean',\n",
       " '_40s_korean',\n",
       " '_50s_korean',\n",
       " '_60s_korean',\n",
       " '_70s_korean',\n",
       " '_80s_korean',\n",
       " '_90s_korean',\n",
       " '_100s_korean',\n",
       " '총생활인구수',\n",
       " '대중교통_승차',\n",
       " '지하철_승차',\n",
       " '버스_승차',\n",
       " '대중교통_하차',\n",
       " '지하철_하차',\n",
       " '버스_하차',\n",
       " '남자0s생활인구',\n",
       " '남자10s생활인구',\n",
       " '남자20s생활인구',\n",
       " '남자30s생활인구',\n",
       " '남자40s생활인구',\n",
       " '남자50s생활인구',\n",
       " '남자60s생활인구',\n",
       " '남자70s이상생활인구',\n",
       " '여자0s생활인구',\n",
       " '여자10s생활인구',\n",
       " '여자20s생활인구',\n",
       " '여자30s생활인구',\n",
       " '여자40s생활인구',\n",
       " '여자50s생활인구',\n",
       " '여자60s생활인구',\n",
       " '여자70s이상생활인구',\n",
       " '아파트_단지_수',\n",
       " '아파트_평균_시가',\n",
       " '길단위유동인구',\n",
       " '직장인구']"
      ]
     },
     "execution_count": 136,
     "metadata": {},
     "output_type": "execute_result"
    }
   ],
   "source": [
    "fsel.backwardSelection(X, y, model_type = 'linear', elimination_criteria = 'r2')"
   ]
  },
  {
   "cell_type": "markdown",
   "metadata": {},
   "source": [
    "### Case 2-4) Forward + Adjusted R2"
   ]
  },
  {
   "cell_type": "code",
   "execution_count": 138,
   "metadata": {},
   "outputs": [
    {
     "name": "stdout",
     "output_type": "stream",
     "text": [
      "Character Variables (Dummies Generated, First Dummies Dropped): []\n",
      "Eliminated : 일반_병원_수\n",
      "Eliminated : 총병원_수\n",
      "Eliminated : 아파트_평균_시가\n",
      "Eliminated : _90s_foreigner\n",
      "Eliminated : 숙박_시설_수\n",
      "Eliminated : _80s_korean\n",
      "Eliminated : 상권_수\n",
      "Eliminated : 슈퍼마켓_수\n",
      "Eliminated : 중학교_수\n",
      "Eliminated : 초중고등학교_수\n",
      "Eliminated : 극장_수\n",
      "Eliminated : _80s_foreigner\n",
      "Eliminated : _10s_foreigner\n",
      "Eliminated : 관공서_수\n",
      "Eliminated : _40s_korean\n",
      "Eliminated : 종합병원_수\n",
      "Eliminated : 대중교통_하차\n",
      "Eliminated : 지하철_승차\n",
      "Eliminated : 여자50s생활인구\n",
      "Eliminated : 버스_하차\n",
      "Eliminated : 남자60s생활인구\n",
      "Eliminated : 남자50s생활인구\n",
      "Eliminated : intercept\n",
      "Eliminated : 약국_수\n",
      "Eliminated : 여자70s이상생활인구\n",
      "Eliminated : 남자40s생활인구\n",
      "Eliminated : 여자10s생활인구\n",
      "Eliminated : 집객시설_수\n",
      "Regained :  집객시설_수\n",
      "                                 OLS Regression Results                                \n",
      "=======================================================================================\n",
      "Dep. Variable:                   이용건수   R-squared (uncentered):                   0.549\n",
      "Model:                            OLS   Adj. R-squared (uncentered):              0.501\n",
      "Method:                 Least Squares   F-statistic:                              11.39\n",
      "Date:                Tue, 19 Aug 2025   Prob (F-statistic):                    7.52e-45\n",
      "Time:                        20:53:58   Log-Likelihood:                         -553.62\n",
      "No. Observations:                 424   AIC:                                      1189.\n",
      "Df Residuals:                     383   BIC:                                      1355.\n",
      "Df Model:                          41                                                  \n",
      "Covariance Type:            nonrobust                                                  \n",
      "===================================================================================\n",
      "                      coef    std err          t      P>|t|      [0.025      0.975]\n",
      "-----------------------------------------------------------------------------------\n",
      "집객시설_수             -0.1098      0.105     -1.049      0.295      -0.316       0.096\n",
      "은행_수                0.1545      0.073      2.120      0.035       0.011       0.298\n",
      "유치원_수              -0.1060      0.069     -1.537      0.125      -0.242       0.030\n",
      "초등학교_수              0.4921      0.270      1.820      0.069      -0.039       1.024\n",
      "고등학교_수              0.3588      0.239      1.500      0.134      -0.112       0.829\n",
      "대학교_수              -0.0620      0.052     -1.190      0.235      -0.164       0.040\n",
      "백화점_수              -0.4452      0.302     -1.473      0.142      -1.040       0.149\n",
      "_0s_foreigner       0.1480      0.083      1.787      0.075      -0.015       0.311\n",
      "_20s_foreigner      0.0704      0.039      1.824      0.069      -0.005       0.146\n",
      "_30s_foreigner     -0.4897      0.124     -3.963      0.000      -0.733      -0.247\n",
      "_40s_foreigner      0.1824      0.124      1.472      0.142      -0.061       0.426\n",
      "_50s_foreigner     -0.2280      0.096     -2.368      0.018      -0.417      -0.039\n",
      "_60s_foreigner      0.2644      0.096      2.742      0.006       0.075       0.454\n",
      "_70s_foreigner     -0.1182      0.058     -2.038      0.042      -0.232      -0.004\n",
      "_100s_foreigner     0.2544      0.172      1.478      0.140      -0.084       0.593\n",
      "_0s_korean         -0.4750      0.187     -2.540      0.011      -0.843      -0.107\n",
      "_10s_korean         0.7330      0.249      2.940      0.003       0.243       1.223\n",
      "_20s_korean         0.3914      0.228      1.719      0.086      -0.056       0.839\n",
      "_30s_korean         1.0465      0.318      3.290      0.001       0.421       1.672\n",
      "_50s_korean        -1.5448      0.406     -3.803      0.000      -2.343      -0.746\n",
      "_60s_korean         1.8158      0.417      4.350      0.000       0.995       2.636\n",
      "_70s_korean        -1.2686      0.265     -4.793      0.000      -1.789      -0.748\n",
      "_90s_korean         0.1563      0.116      1.343      0.180      -0.073       0.385\n",
      "_100s_korean       -0.1183      0.072     -1.645      0.101      -0.260       0.023\n",
      "총생활인구수              7.1045      1.736      4.093      0.000       3.692      10.517\n",
      "대중교통_승차            -3.0311      0.665     -4.560      0.000      -4.338      -1.724\n",
      "버스_승차               1.0374      0.242      4.279      0.000       0.561       1.514\n",
      "지하철_하차              2.5678      0.542      4.740      0.000       1.503       3.633\n",
      "남자0s생활인구           -0.3167      0.210     -1.506      0.133      -0.730       0.097\n",
      "남자10s생활인구          -0.7625      0.196     -3.894      0.000      -1.147      -0.378\n",
      "남자20s생활인구          -0.8278      0.265     -3.124      0.002      -1.349      -0.307\n",
      "남자30s생활인구          -1.2263      0.516     -2.377      0.018      -2.241      -0.212\n",
      "남자70s이상생활인구        -0.3574      0.287     -1.247      0.213      -0.921       0.206\n",
      "여자0s생활인구           -0.2691      0.216     -1.243      0.214      -0.694       0.156\n",
      "여자20s생활인구          -0.6583      0.328     -2.004      0.046      -1.304      -0.012\n",
      "여자30s생활인구          -0.6600      0.492     -1.342      0.180      -1.627       0.307\n",
      "여자40s생활인구          -1.1007      0.657     -1.676      0.095      -2.392       0.191\n",
      "여자60s생활인구          -1.4848      0.455     -3.262      0.001      -2.380      -0.590\n",
      "아파트_단지_수           -0.2447      0.093     -2.630      0.009      -0.428      -0.062\n",
      "길단위유동인구            -0.1453      0.075     -1.948      0.052      -0.292       0.001\n",
      "직장인구               -0.0705      0.025     -2.815      0.005      -0.120      -0.021\n",
      "==============================================================================\n",
      "Omnibus:                      322.233   Durbin-Watson:                   1.708\n",
      "Prob(Omnibus):                  0.000   Jarque-Bera (JB):            11471.099\n",
      "Skew:                           2.813   Prob(JB):                         0.00\n",
      "Kurtosis:                      27.853   Cond. No.                         324.\n",
      "==============================================================================\n",
      "\n",
      "Notes:\n",
      "[1] R² is computed without centering (uncentered) since the model does not contain a constant.\n",
      "[2] Standard Errors assume that the covariance matrix of the errors is correctly specified.\n",
      "AIC: 1189.2323837181493\n",
      "BIC: 1355.2714553826595\n",
      "Final Variables: ['집객시설_수', '은행_수', '유치원_수', '초등학교_수', '고등학교_수', '대학교_수', '백화점_수', '_0s_foreigner', '_20s_foreigner', '_30s_foreigner', '_40s_foreigner', '_50s_foreigner', '_60s_foreigner', '_70s_foreigner', '_100s_foreigner', '_0s_korean', '_10s_korean', '_20s_korean', '_30s_korean', '_50s_korean', '_60s_korean', '_70s_korean', '_90s_korean', '_100s_korean', '총생활인구수', '대중교통_승차', '버스_승차', '지하철_하차', '남자0s생활인구', '남자10s생활인구', '남자20s생활인구', '남자30s생활인구', '남자70s이상생활인구', '여자0s생활인구', '여자20s생활인구', '여자30s생활인구', '여자40s생활인구', '여자60s생활인구', '아파트_단지_수', '길단위유동인구', '직장인구']\n"
     ]
    },
    {
     "data": {
      "text/plain": [
       "['집객시설_수',\n",
       " '은행_수',\n",
       " '유치원_수',\n",
       " '초등학교_수',\n",
       " '고등학교_수',\n",
       " '대학교_수',\n",
       " '백화점_수',\n",
       " '_0s_foreigner',\n",
       " '_20s_foreigner',\n",
       " '_30s_foreigner',\n",
       " '_40s_foreigner',\n",
       " '_50s_foreigner',\n",
       " '_60s_foreigner',\n",
       " '_70s_foreigner',\n",
       " '_100s_foreigner',\n",
       " '_0s_korean',\n",
       " '_10s_korean',\n",
       " '_20s_korean',\n",
       " '_30s_korean',\n",
       " '_50s_korean',\n",
       " '_60s_korean',\n",
       " '_70s_korean',\n",
       " '_90s_korean',\n",
       " '_100s_korean',\n",
       " '총생활인구수',\n",
       " '대중교통_승차',\n",
       " '버스_승차',\n",
       " '지하철_하차',\n",
       " '남자0s생활인구',\n",
       " '남자10s생활인구',\n",
       " '남자20s생활인구',\n",
       " '남자30s생활인구',\n",
       " '남자70s이상생활인구',\n",
       " '여자0s생활인구',\n",
       " '여자20s생활인구',\n",
       " '여자30s생활인구',\n",
       " '여자40s생활인구',\n",
       " '여자60s생활인구',\n",
       " '아파트_단지_수',\n",
       " '길단위유동인구',\n",
       " '직장인구']"
      ]
     },
     "execution_count": 138,
     "metadata": {},
     "output_type": "execute_result"
    }
   ],
   "source": [
    "fsel.backwardSelection(X, y, model_type = 'linear', elimination_criteria = 'adjr2')"
   ]
  },
  {
   "cell_type": "markdown",
   "metadata": {},
   "source": [
    "### Q4. Summary\n"
   ]
  },
  {
   "cell_type": "markdown",
   "metadata": {},
   "source": [
    "실험한 8가지 조합의 결과를 기반으로, 각 조합에서 선택한 변수, 예측 성능 지표, 그리고 잔차 진단 결과 등을 종합적으로 비교하라.\n",
    "\n",
    "답변 작성 시 다음의 질문들(예시)을 생각할 수 있다.\n",
    "- Forward와 Backward 방식 중 전반적으로 더 안정적인 예측 성능을 보인 방식은 무엇이며, 그 이유는 무엇이라고 생각하는가?\n",
    "- 변수 선택 기준에 따라 선택된 변수 조합이 어떻게 달라졌는가?\n",
    "- 과적합 또는 과소적합이 의심되는 조합이 있는가? 있다면 왜 그렇게 판단했는가?\n",
    "- 가장 신뢰할 수 있는 모델은 무엇이며, 그 모델을 선택한 근거는 무엇인가?"
   ]
  },
  {
   "cell_type": "markdown",
   "metadata": {},
   "source": [
    "A4: \n",
    "BIC 기준 ->Forward + BIC 가 BIC=1259로 최저(변수 5개) → 가장 보수적이고 간결함.\n"
   ]
  }
 ],
 "metadata": {
  "kernelspec": {
   "display_name": "Python 3 (ipykernel)",
   "language": "python",
   "name": "python3"
  },
  "language_info": {
   "codemirror_mode": {
    "name": "ipython",
    "version": 3
   },
   "file_extension": ".py",
   "mimetype": "text/x-python",
   "name": "python",
   "nbconvert_exporter": "python",
   "pygments_lexer": "ipython3",
   "version": "3.12.2"
  }
 },
 "nbformat": 4,
 "nbformat_minor": 4
}
